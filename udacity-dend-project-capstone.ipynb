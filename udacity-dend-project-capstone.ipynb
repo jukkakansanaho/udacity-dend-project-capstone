{
 "cells": [
  {
   "cell_type": "markdown",
   "metadata": {},
   "source": [
    "# World Temperature vs CO2 and SO2 Emissions\n",
    "### Data Engineering Capstone Project\n",
    "\n",
    "#### Project Summary\n",
    "This Project creates a Data Lake type of ETL pipeline to process, clean and store data related to world temperature and emissions. Data can be used to analyse if country emissions have impact on world temperature.  \n",
    "\n",
    "The project follows the follow steps:\n",
    "* Step 1: Scope the Project and Gather Data\n",
    "* Step 2: Explore and Assess the Data\n",
    "* Step 3: Define the Data Model\n",
    "* Step 4: Run ETL to Model the Data\n",
    "* Step 5: Complete Project Write Up"
   ]
  },
  {
   "cell_type": "code",
   "execution_count": 1,
   "metadata": {},
   "outputs": [],
   "source": [
    "# Import necessary libraries\n",
    "import pandas as pd\n",
    "import re\n",
    "from pyspark.sql import SparkSession\n",
    "import os\n",
    "import configparser\n",
    "from datetime import datetime, timedelta, date\n",
    "from pyspark.sql import types as t\n",
    "from pyspark.sql.functions import udf, col, monotonically_increasing_id\n",
    "from pyspark.sql.functions import year, month, dayofmonth, hour, weekofyear"
   ]
  },
  {
   "cell_type": "code",
   "execution_count": 2,
   "metadata": {},
   "outputs": [
    {
     "name": "stdout",
     "output_type": "stream",
     "text": [
      "data/\n",
      "data/18-83510-I94-Data-2016/i94_jan16_sub.sas7bdat\n",
      "data/airport_codes.csv\n",
      "data/iso-3166-country-codes.json\n",
      "data/i94_airport_codes.xlsx\n",
      "data/i94_country_codes.xlsx\n",
      "data/output_data/\n",
      "local\n",
      "parquet\n"
     ]
    }
   ],
   "source": [
    "# Read config file\n",
    "config = configparser.ConfigParser()\n",
    "config.read_file(open('dl.cfg'))\n",
    "\n",
    "os.environ[\"AWS_ACCESS_KEY_ID\"]= config['AWS']['AWS_ACCESS_KEY_ID']\n",
    "os.environ[\"AWS_SECRET_ACCESS_KEY\"]= config['AWS']['AWS_SECRET_ACCESS_KEY']\n",
    "\n",
    "# NOTE: Use these if using AWS S3 as a storage\n",
    "INPUT_DATA = config['AWS']['INPUT_DATA']\n",
    "OUTPUT_DATA = config['AWS']['OUTPUT_DATA']\n",
    "\n",
    "# NOTE: Use these if using local storage\n",
    "INPUT_DATA_LOCAL          = config['LOCAL']['INPUT_DATA_LOCAL']\n",
    "INPUT_DATA_I94_LOCAL      = config['LOCAL']['INPUT_DATA_I94_LOCAL']\n",
    "INPUT_DATA_AIRPORT_LOCAL  = config['LOCAL']['INPUT_DATA_AIRPORT_LOCAL']\n",
    "INPUT_DATA_COUNTRY_LOCAL  = config['LOCAL']['INPUT_DATA_COUNTRY_LOCAL']\n",
    "INPUT_DATA_AIRPORT_I94_LOCAL  = config['LOCAL']['INPUT_DATA_AIRPORT_I94_LOCAL']\n",
    "INPUT_DATA_COUNTRY_I94_LOCAL  = config['LOCAL']['INPUT_DATA_COUNTRY_I94_LOCAL']\n",
    "OUTPUT_DATA_LOCAL         = config['LOCAL']['OUTPUT_DATA_LOCAL']\n",
    "\n",
    "# NOTE: Use these when storing data on server.\n",
    "INPUT_DATA_I94_SERVER     = config['SERVER']['INPUT_DATA_I94_SERVER']\n",
    "INPUT_DATA_AIRPORT_SERVER = config['SERVER']['INPUT_DATA_AIRPORT_SERVER']\n",
    "INPUT_DATA_COUNTRY_SERVER = config['SERVER']['INPUT_DATA_COUNTRY_SERVER']\n",
    "OUTPUT_DATA_SERVER        = config['SERVER']['OUTPUT_DATA_SERVER']\n",
    "\n",
    "# NOTE: Use these when storing data on AWS.\n",
    "INPUT_DATA_I94            = config['AWS']['INPUT_DATA_I94']\n",
    "INPUT_DATA_AIRPORT        = config['AWS']['INPUT_DATA_AIRPORT']\n",
    "INPUT_DATA_COUNTRY        = config['AWS']['INPUT_DATA_COUNTRY']\n",
    "OUTPUT_DATA               = config['AWS']['OUTPUT_DATA']\n",
    "\n",
    "DATA_LOCATION             = config['COMMON']['DATA_LOCATION']\n",
    "DATA_STORAGE              = config['COMMON']['DATA_STORAGE']\n",
    "\n",
    "#print(AWS_ACCESS_KEY_ID)\n",
    "#print(AWS_SECRET_ACCESS_KEY)\n",
    "\n",
    "print(INPUT_DATA_LOCAL)\n",
    "print(INPUT_DATA_I94_LOCAL)\n",
    "print(INPUT_DATA_AIRPORT_LOCAL)\n",
    "print(INPUT_DATA_COUNTRY_LOCAL)\n",
    "print(INPUT_DATA_AIRPORT_I94_LOCAL)\n",
    "print(INPUT_DATA_COUNTRY_I94_LOCAL)\n",
    "print(OUTPUT_DATA_LOCAL)\n",
    "print(DATA_LOCATION)\n",
    "print(DATA_STORAGE)"
   ]
  },
  {
   "cell_type": "markdown",
   "metadata": {},
   "source": [
    "### Step 1: Scope the Project and Gather Data\n",
    "\n",
    "#### Scope \n",
    "_Explain what you plan to do in the project in more detail. What data do you use? What is your end solution look like? What tools did you use? etc_\n",
    "\n",
    "Scope of the project is to create an ETL pipeline for processing, cleaning and storing data related to US I94 immigration data, and country codes.  \n",
    "\n",
    "Output of the ETL pipeline: processed data stored in Star schema model to parquet files. \n",
    "Tools: python, pandas, pyspark, (Amazon AWS S3)\n",
    "\n",
    "#### Describe and Gather Data \n",
    "_Describe the data sets you're using. Where did it come from? What type of information is included?_\n",
    "\n",
    "Project's data contains the following pieces:\n",
    "* **data/18-83510-I94-Data-2016/**: US I94 immigration data from 2016 (Jan-Dec).\n",
    "    * Source: https://travel.trade.gov/research/reports/i94/historical/2016.html\n",
    "    * Description: I94_SAS_Labels_Descriptions.txt file contains descriptions for the I94 data.\n",
    "        * I94 dataset has SAS7BDAT file per each month of the year (e.g. i94_jan16_sub.sas7bdat).\n",
    "        * Each file contains about 3M rows\n",
    "        * Data has 28 columns containing information about event date, arriving person, airport, airline, etc.\n",
    "    * I94 immigration data example:\n",
    "    * ![I94-immigration-data example](./Udacity-DEND-Project-Capstone-I94ImmigrationData-20190812-2.png)\n",
    "    * NOTE: This data is behind a pay wall and need to be purchased to get access. Data is available for Udacity DEND course.\n",
    "    \n",
    "* **data/i94_airport_codes.xlsx**: Airport codes and related cities defined in I94 data description file.\n",
    "    * Source: https://travel.trade.gov/research/reports/i94/historical/2016.html\n",
    "    * Description: I94 Airport codes data contains information about different airports around the world.\n",
    "        * Columns: i94port, i94_airport_name\n",
    "        * Data has 660 rows and 2 columns.\n",
    "    * NOTE: I94 data uses its own codes for airports instead of using standard codes (like IATA). Therefore, I94 airport codes have been taken from I94 data description file and processed for ETL use.  \n",
    "    * Airport Code example:\n",
    "    * ![I94-AirportCode-data example](./Udacity-DEND-Project-Capstone-I94AirportCodeData-20190813-4.png)\n",
    "\n",
    "* **data/i94_country_codes.xlsx**: Country codes defined in US I94 Immigration data description file. \n",
    "    * Source: https://travel.trade.gov/research/reports/i94/historical/2016.html\n",
    "    * Description: I94 Country codes data contains information about countries people come to US from.\n",
    "        * Columns: i94cit, i94_country_code\n",
    "        * Data has 289 rows and 2 columns.\n",
    "    * NOTE: I94 data uses its own codes for countries instead of using ISO-3166 standard codes. Therefore, I94 country codes have been taken from I94 data description file and processed for ETL use.\n",
    "    * Country Code example:\n",
    "    * ![CountryCode-data example](./Udacity-DEND-Project-Capstone-I94CountryCodeData-20190813-5.png)    \n",
    "  \n",
    "* **data/airport-codes.csv**: Airport codes and related cities.\n",
    "    * Source: https://datahub.io/core/airport-codes#data\n",
    "    * Description: Airpot codes data contains information about different airports around the world.\n",
    "        * Columns: Airport code, name, type, location, etc.\n",
    "        * Data has 48304 rows and 12 columns.\n",
    "    * Airport Code example:\n",
    "    * ![AirportCode-data example](./Udacity-DEND-Project-Capstone-AirportCodeData-20190812-3.png)\n",
    "\n",
    "* **data/iso-3166-country-codes.json**: World country codes (ISO-3166)\n",
    "    * Source: https://github.com/lukes/ISO-3166-Countries-with-Regional-Codes\n",
    "    ISO-3166-1 and ISO-3166-2 Country and Dependent Territories Lists with UN Regional Codes\n",
    "    * ISO-3166: https://www.iso.org/iso-3166-country-codes.html\n",
    "    * Country Code example:\n",
    "    * ![CountryCode-data example](./Udacity-DEND-Project-Capstone-CountryCodesData-20190804-4.png)"
   ]
  },
  {
   "cell_type": "markdown",
   "metadata": {},
   "source": [
    "### 1.1 Define config and read in data"
   ]
  },
  {
   "cell_type": "code",
   "execution_count": 3,
   "metadata": {},
   "outputs": [],
   "source": [
    "# Set config\n",
    "if DATA_LOCATION == \"local\":\n",
    "    input_data        = INPUT_DATA_LOCAL\n",
    "    i94_data          = INPUT_DATA_I94_LOCAL\n",
    "    airport_codes     = INPUT_DATA_AIRPORT_LOCAL\n",
    "    country_codes     = INPUT_DATA_COUNTRY_LOCAL\n",
    "    airport_codes_i94 = INPUT_DATA_AIRPORT_I94_LOCAL\n",
    "    country_codes_i94 = INPUT_DATA_COUNTRY_I94_LOCAL\n",
    "    output_data       = OUTPUT_DATA_LOCAL\n",
    "elif DATA_LOCATION == \"server\":\n",
    "    input_data_bucket = INPUT_DATA_SERVER\n",
    "    i94_data          = INPUT_DATA_I94_SERVER\n",
    "    airport_codes     = INPUT_DATA_AIRPORT_SERVER\n",
    "    country_codes     = INPUT_COUNTRY_SERVER\n",
    "    airport_codes_i94 = INPUT_DATA_AIRPORT_I94_SERVER\n",
    "    country_codes_i94 = INPUT_DATA_COUNTRY_I94_SERVER\n",
    "    output_data       = OUTPUT_DATA_SERVER\n",
    "elif DATA_LOCATION == \"aws\":\n",
    "    input_data_bucket = INPUT_DATA\n",
    "    i94_data          = INPUT_DATA_I94\n",
    "    airport_codes     = INPUT_DATA_AIRPORT\n",
    "    country_codes     = INPUT_COUNTRY\n",
    "    airport_codes_i94 = INPUT_DATA_AIRPORT_I94\n",
    "    country_codes_i94 = INPUT_DATA_COUNTRY_I94\n",
    "    output_data       = OUTPUT_DATA\n",
    "    \n",
    "if DATA_STORAGE == \"postgresql\":\n",
    "    pass\n",
    "elif DATA_STORAGE == \"parquet\":\n",
    "    data_storage      = DATA_STORAGE"
   ]
  },
  {
   "cell_type": "code",
   "execution_count": null,
   "metadata": {},
   "outputs": [],
   "source": [
    "# Read I94 immigration data:\n",
    "#i94_df = pd.read_sas(i94_data, 'sas7bdat', encoding='ISO-8859-1')"
   ]
  },
  {
   "cell_type": "code",
   "execution_count": 4,
   "metadata": {},
   "outputs": [],
   "source": [
    "# Read airport code data:\n",
    "airport_codes_df = pd.read_csv(airport_codes, header=0, sep=',')\n",
    "\n",
    "# Read Global country codes data:\n",
    "country_codes_df = pd.read_json(country_codes, orient=\"records\")\n",
    "\n",
    "# Read I94 Airport codes data:\n",
    "airport_codes_i94_df = pd.read_excel(airport_codes_i94, header=0, index_col=0)\n",
    "\n",
    "# Read I94 Country codes data:\n",
    "country_codes_i94_df = pd.read_excel(country_codes_i94, header=0, index_col=0)"
   ]
  },
  {
   "cell_type": "markdown",
   "metadata": {},
   "source": [
    "### 1.2 Show data snippets"
   ]
  },
  {
   "cell_type": "code",
   "execution_count": null,
   "metadata": {},
   "outputs": [],
   "source": [
    "# I94 immigration data\n",
    "i94_df.head()"
   ]
  },
  {
   "cell_type": "code",
   "execution_count": 5,
   "metadata": {},
   "outputs": [
    {
     "data": {
      "text/html": [
       "<div>\n",
       "<style scoped>\n",
       "    .dataframe tbody tr th:only-of-type {\n",
       "        vertical-align: middle;\n",
       "    }\n",
       "\n",
       "    .dataframe tbody tr th {\n",
       "        vertical-align: top;\n",
       "    }\n",
       "\n",
       "    .dataframe thead th {\n",
       "        text-align: right;\n",
       "    }\n",
       "</style>\n",
       "<table border=\"1\" class=\"dataframe\">\n",
       "  <thead>\n",
       "    <tr style=\"text-align: right;\">\n",
       "      <th></th>\n",
       "      <th>ident</th>\n",
       "      <th>type</th>\n",
       "      <th>name</th>\n",
       "      <th>elevation_ft</th>\n",
       "      <th>continent</th>\n",
       "      <th>iso_country</th>\n",
       "      <th>iso_region</th>\n",
       "      <th>municipality</th>\n",
       "      <th>gps_code</th>\n",
       "      <th>iata_code</th>\n",
       "      <th>local_code</th>\n",
       "      <th>coordinates</th>\n",
       "    </tr>\n",
       "  </thead>\n",
       "  <tbody>\n",
       "    <tr>\n",
       "      <th>0</th>\n",
       "      <td>00A</td>\n",
       "      <td>heliport</td>\n",
       "      <td>Total Rf Heliport</td>\n",
       "      <td>11.0</td>\n",
       "      <td>NaN</td>\n",
       "      <td>US</td>\n",
       "      <td>US-PA</td>\n",
       "      <td>Bensalem</td>\n",
       "      <td>00A</td>\n",
       "      <td>NaN</td>\n",
       "      <td>00A</td>\n",
       "      <td>-74.93360137939453, 40.07080078125</td>\n",
       "    </tr>\n",
       "    <tr>\n",
       "      <th>1</th>\n",
       "      <td>00AA</td>\n",
       "      <td>small_airport</td>\n",
       "      <td>Aero B Ranch Airport</td>\n",
       "      <td>3435.0</td>\n",
       "      <td>NaN</td>\n",
       "      <td>US</td>\n",
       "      <td>US-KS</td>\n",
       "      <td>Leoti</td>\n",
       "      <td>00AA</td>\n",
       "      <td>NaN</td>\n",
       "      <td>00AA</td>\n",
       "      <td>-101.473911, 38.704022</td>\n",
       "    </tr>\n",
       "    <tr>\n",
       "      <th>2</th>\n",
       "      <td>00AK</td>\n",
       "      <td>small_airport</td>\n",
       "      <td>Lowell Field</td>\n",
       "      <td>450.0</td>\n",
       "      <td>NaN</td>\n",
       "      <td>US</td>\n",
       "      <td>US-AK</td>\n",
       "      <td>Anchor Point</td>\n",
       "      <td>00AK</td>\n",
       "      <td>NaN</td>\n",
       "      <td>00AK</td>\n",
       "      <td>-151.695999146, 59.94919968</td>\n",
       "    </tr>\n",
       "    <tr>\n",
       "      <th>3</th>\n",
       "      <td>00AL</td>\n",
       "      <td>small_airport</td>\n",
       "      <td>Epps Airpark</td>\n",
       "      <td>820.0</td>\n",
       "      <td>NaN</td>\n",
       "      <td>US</td>\n",
       "      <td>US-AL</td>\n",
       "      <td>Harvest</td>\n",
       "      <td>00AL</td>\n",
       "      <td>NaN</td>\n",
       "      <td>00AL</td>\n",
       "      <td>-86.77030181884766, 34.86479949951172</td>\n",
       "    </tr>\n",
       "    <tr>\n",
       "      <th>4</th>\n",
       "      <td>00AR</td>\n",
       "      <td>closed</td>\n",
       "      <td>Newport Hospital &amp; Clinic Heliport</td>\n",
       "      <td>237.0</td>\n",
       "      <td>NaN</td>\n",
       "      <td>US</td>\n",
       "      <td>US-AR</td>\n",
       "      <td>Newport</td>\n",
       "      <td>NaN</td>\n",
       "      <td>NaN</td>\n",
       "      <td>NaN</td>\n",
       "      <td>-91.254898, 35.6087</td>\n",
       "    </tr>\n",
       "  </tbody>\n",
       "</table>\n",
       "</div>"
      ],
      "text/plain": [
       "  ident           type                                name  elevation_ft  \\\n",
       "0   00A       heliport                   Total Rf Heliport          11.0   \n",
       "1  00AA  small_airport                Aero B Ranch Airport        3435.0   \n",
       "2  00AK  small_airport                        Lowell Field         450.0   \n",
       "3  00AL  small_airport                        Epps Airpark         820.0   \n",
       "4  00AR         closed  Newport Hospital & Clinic Heliport         237.0   \n",
       "\n",
       "  continent iso_country iso_region  municipality gps_code iata_code  \\\n",
       "0       NaN          US      US-PA      Bensalem      00A       NaN   \n",
       "1       NaN          US      US-KS         Leoti     00AA       NaN   \n",
       "2       NaN          US      US-AK  Anchor Point     00AK       NaN   \n",
       "3       NaN          US      US-AL       Harvest     00AL       NaN   \n",
       "4       NaN          US      US-AR       Newport      NaN       NaN   \n",
       "\n",
       "  local_code                            coordinates  \n",
       "0        00A     -74.93360137939453, 40.07080078125  \n",
       "1       00AA                 -101.473911, 38.704022  \n",
       "2       00AK            -151.695999146, 59.94919968  \n",
       "3       00AL  -86.77030181884766, 34.86479949951172  \n",
       "4        NaN                    -91.254898, 35.6087  "
      ]
     },
     "execution_count": 5,
     "metadata": {},
     "output_type": "execute_result"
    }
   ],
   "source": [
    "airport_codes_df.head()"
   ]
  },
  {
   "cell_type": "code",
   "execution_count": 6,
   "metadata": {},
   "outputs": [
    {
     "data": {
      "text/html": [
       "<div>\n",
       "<style scoped>\n",
       "    .dataframe tbody tr th:only-of-type {\n",
       "        vertical-align: middle;\n",
       "    }\n",
       "\n",
       "    .dataframe tbody tr th {\n",
       "        vertical-align: top;\n",
       "    }\n",
       "\n",
       "    .dataframe thead th {\n",
       "        text-align: right;\n",
       "    }\n",
       "</style>\n",
       "<table border=\"1\" class=\"dataframe\">\n",
       "  <thead>\n",
       "    <tr style=\"text-align: right;\">\n",
       "      <th></th>\n",
       "      <th>alpha-2</th>\n",
       "      <th>alpha-3</th>\n",
       "      <th>country-code</th>\n",
       "      <th>intermediate-region</th>\n",
       "      <th>intermediate-region-code</th>\n",
       "      <th>iso_3166-2</th>\n",
       "      <th>name</th>\n",
       "      <th>region</th>\n",
       "      <th>region-code</th>\n",
       "      <th>sub-region</th>\n",
       "      <th>sub-region-code</th>\n",
       "    </tr>\n",
       "  </thead>\n",
       "  <tbody>\n",
       "    <tr>\n",
       "      <th>0</th>\n",
       "      <td>AF</td>\n",
       "      <td>AFG</td>\n",
       "      <td>4</td>\n",
       "      <td></td>\n",
       "      <td></td>\n",
       "      <td>ISO 3166-2:AF</td>\n",
       "      <td>Afghanistan</td>\n",
       "      <td>Asia</td>\n",
       "      <td>142</td>\n",
       "      <td>Southern Asia</td>\n",
       "      <td>034</td>\n",
       "    </tr>\n",
       "    <tr>\n",
       "      <th>1</th>\n",
       "      <td>AX</td>\n",
       "      <td>ALA</td>\n",
       "      <td>248</td>\n",
       "      <td></td>\n",
       "      <td></td>\n",
       "      <td>ISO 3166-2:AX</td>\n",
       "      <td>Åland Islands</td>\n",
       "      <td>Europe</td>\n",
       "      <td>150</td>\n",
       "      <td>Northern Europe</td>\n",
       "      <td>154</td>\n",
       "    </tr>\n",
       "    <tr>\n",
       "      <th>2</th>\n",
       "      <td>AL</td>\n",
       "      <td>ALB</td>\n",
       "      <td>8</td>\n",
       "      <td></td>\n",
       "      <td></td>\n",
       "      <td>ISO 3166-2:AL</td>\n",
       "      <td>Albania</td>\n",
       "      <td>Europe</td>\n",
       "      <td>150</td>\n",
       "      <td>Southern Europe</td>\n",
       "      <td>039</td>\n",
       "    </tr>\n",
       "    <tr>\n",
       "      <th>3</th>\n",
       "      <td>DZ</td>\n",
       "      <td>DZA</td>\n",
       "      <td>12</td>\n",
       "      <td></td>\n",
       "      <td></td>\n",
       "      <td>ISO 3166-2:DZ</td>\n",
       "      <td>Algeria</td>\n",
       "      <td>Africa</td>\n",
       "      <td>002</td>\n",
       "      <td>Northern Africa</td>\n",
       "      <td>015</td>\n",
       "    </tr>\n",
       "    <tr>\n",
       "      <th>4</th>\n",
       "      <td>AS</td>\n",
       "      <td>ASM</td>\n",
       "      <td>16</td>\n",
       "      <td></td>\n",
       "      <td></td>\n",
       "      <td>ISO 3166-2:AS</td>\n",
       "      <td>American Samoa</td>\n",
       "      <td>Oceania</td>\n",
       "      <td>009</td>\n",
       "      <td>Polynesia</td>\n",
       "      <td>061</td>\n",
       "    </tr>\n",
       "  </tbody>\n",
       "</table>\n",
       "</div>"
      ],
      "text/plain": [
       "  alpha-2 alpha-3  country-code intermediate-region intermediate-region-code  \\\n",
       "0      AF     AFG             4                                                \n",
       "1      AX     ALA           248                                                \n",
       "2      AL     ALB             8                                                \n",
       "3      DZ     DZA            12                                                \n",
       "4      AS     ASM            16                                                \n",
       "\n",
       "      iso_3166-2            name   region region-code       sub-region  \\\n",
       "0  ISO 3166-2:AF     Afghanistan     Asia         142    Southern Asia   \n",
       "1  ISO 3166-2:AX   Åland Islands   Europe         150  Northern Europe   \n",
       "2  ISO 3166-2:AL         Albania   Europe         150  Southern Europe   \n",
       "3  ISO 3166-2:DZ         Algeria   Africa         002  Northern Africa   \n",
       "4  ISO 3166-2:AS  American Samoa  Oceania         009        Polynesia   \n",
       "\n",
       "  sub-region-code  \n",
       "0             034  \n",
       "1             154  \n",
       "2             039  \n",
       "3             015  \n",
       "4             061  "
      ]
     },
     "execution_count": 6,
     "metadata": {},
     "output_type": "execute_result"
    }
   ],
   "source": [
    "country_codes_df.head()"
   ]
  },
  {
   "cell_type": "code",
   "execution_count": 7,
   "metadata": {},
   "outputs": [
    {
     "data": {
      "text/html": [
       "<div>\n",
       "<style scoped>\n",
       "    .dataframe tbody tr th:only-of-type {\n",
       "        vertical-align: middle;\n",
       "    }\n",
       "\n",
       "    .dataframe tbody tr th {\n",
       "        vertical-align: top;\n",
       "    }\n",
       "\n",
       "    .dataframe thead th {\n",
       "        text-align: right;\n",
       "    }\n",
       "</style>\n",
       "<table border=\"1\" class=\"dataframe\">\n",
       "  <thead>\n",
       "    <tr style=\"text-align: right;\">\n",
       "      <th></th>\n",
       "      <th>i94_airport_name</th>\n",
       "    </tr>\n",
       "    <tr>\n",
       "      <th>i94port</th>\n",
       "      <th></th>\n",
       "    </tr>\n",
       "  </thead>\n",
       "  <tbody>\n",
       "    <tr>\n",
       "      <th>'ALC'</th>\n",
       "      <td>'ALCAN, AK             '</td>\n",
       "    </tr>\n",
       "    <tr>\n",
       "      <th>'ANC'</th>\n",
       "      <td>'ANCHORAGE, AK         '</td>\n",
       "    </tr>\n",
       "    <tr>\n",
       "      <th>'BAR'</th>\n",
       "      <td>'BAKER AAF - BAKER ISLAND, AK'</td>\n",
       "    </tr>\n",
       "    <tr>\n",
       "      <th>'DAC'</th>\n",
       "      <td>'DALTONS CACHE, AK     '</td>\n",
       "    </tr>\n",
       "    <tr>\n",
       "      <th>'PIZ'</th>\n",
       "      <td>'DEW STATION PT LAY DEW, AK'</td>\n",
       "    </tr>\n",
       "  </tbody>\n",
       "</table>\n",
       "</div>"
      ],
      "text/plain": [
       "                        i94_airport_name\n",
       "i94port                                 \n",
       "   'ALC'        'ALCAN, AK             '\n",
       "   'ANC'        'ANCHORAGE, AK         '\n",
       "   'BAR'  'BAKER AAF - BAKER ISLAND, AK'\n",
       "   'DAC'        'DALTONS CACHE, AK     '\n",
       "   'PIZ'    'DEW STATION PT LAY DEW, AK'"
      ]
     },
     "execution_count": 7,
     "metadata": {},
     "output_type": "execute_result"
    }
   ],
   "source": [
    "airport_codes_i94_df.head()"
   ]
  },
  {
   "cell_type": "code",
   "execution_count": 8,
   "metadata": {},
   "outputs": [
    {
     "data": {
      "text/html": [
       "<div>\n",
       "<style scoped>\n",
       "    .dataframe tbody tr th:only-of-type {\n",
       "        vertical-align: middle;\n",
       "    }\n",
       "\n",
       "    .dataframe tbody tr th {\n",
       "        vertical-align: top;\n",
       "    }\n",
       "\n",
       "    .dataframe thead th {\n",
       "        text-align: right;\n",
       "    }\n",
       "</style>\n",
       "<table border=\"1\" class=\"dataframe\">\n",
       "  <thead>\n",
       "    <tr style=\"text-align: right;\">\n",
       "      <th></th>\n",
       "      <th>i94_country_name</th>\n",
       "    </tr>\n",
       "    <tr>\n",
       "      <th>i94cit</th>\n",
       "      <th></th>\n",
       "    </tr>\n",
       "  </thead>\n",
       "  <tbody>\n",
       "    <tr>\n",
       "      <th>582</th>\n",
       "      <td>MEXICO'</td>\n",
       "    </tr>\n",
       "    <tr>\n",
       "      <th>236</th>\n",
       "      <td>'AFGHANISTAN'</td>\n",
       "    </tr>\n",
       "    <tr>\n",
       "      <th>101</th>\n",
       "      <td>'ALBANIA'</td>\n",
       "    </tr>\n",
       "    <tr>\n",
       "      <th>316</th>\n",
       "      <td>'ALGERIA'</td>\n",
       "    </tr>\n",
       "    <tr>\n",
       "      <th>102</th>\n",
       "      <td>'ANDORRA'</td>\n",
       "    </tr>\n",
       "  </tbody>\n",
       "</table>\n",
       "</div>"
      ],
      "text/plain": [
       "       i94_country_name\n",
       "i94cit                 \n",
       "582             MEXICO'\n",
       "236       'AFGHANISTAN'\n",
       "101           'ALBANIA'\n",
       "316           'ALGERIA'\n",
       "102           'ANDORRA'"
      ]
     },
     "execution_count": 8,
     "metadata": {},
     "output_type": "execute_result"
    }
   ],
   "source": [
    "country_codes_i94_df.head()"
   ]
  },
  {
   "cell_type": "markdown",
   "metadata": {},
   "source": [
    "### 1.3 Create Spark session"
   ]
  },
  {
   "cell_type": "code",
   "execution_count": 5,
   "metadata": {},
   "outputs": [],
   "source": [
    "#spark = SparkSession.builder\\\n",
    "#                     .config(\"spark.jars.packages\",\"org.apache.hadoop:hadoop-aws:2.7.0\")\\\n",
    "#                     .getOrCreate()\n",
    "#from pyspark.sql import SparkSession\n",
    "spark = SparkSession.builder\\\n",
    "                    .config(\"spark.jars.packages\",\"saurfang:spark-sas7bdat:2.0.0-s_2.11\")\\\n",
    "                    .enableHiveSupport().getOrCreate()"
   ]
  },
  {
   "cell_type": "markdown",
   "metadata": {},
   "source": [
    "### 1.4 Read I94 immigration data to Spark"
   ]
  },
  {
   "cell_type": "code",
   "execution_count": 6,
   "metadata": {},
   "outputs": [],
   "source": [
    "i94_schema = t.StructType([\n",
    "                            t.StructField(\"alpha-2\", t.StringType(), False),\n",
    "                            t.StructField(\"alpha-3\", t.StringType(), False),\n",
    "                            t.StructField(\"country-code\", t.IntegerType(), False),\n",
    "                            t.StructField(\"intermediate-region\", t.StringType(), False),\n",
    "                            t.StructField(\"intermediate-region-code\", t.StringType(), False),\n",
    "                            t.StructField(\"iso-3166-2\", t.StringType(), False),\n",
    "                            t.StructField(\"name\", t.StringType(), False),\n",
    "                            t.StructField(\"region\", t.StringType(), True),\n",
    "                            t.StructField(\"region-code\", t.StringType(), True),\n",
    "                            t.StructField(\"sub-region\", t.StringType(), True),\n",
    "                            t.StructField(\"sub-region-code\", t.StringType(), True),\n",
    "                        ])"
   ]
  },
  {
   "cell_type": "code",
   "execution_count": 7,
   "metadata": {},
   "outputs": [],
   "source": [
    "i94_df_spark =spark.read.format('com.github.saurfang.sas.spark').load(i94_data)"
   ]
  },
  {
   "cell_type": "code",
   "execution_count": 8,
   "metadata": {},
   "outputs": [
    {
     "name": "stdout",
     "output_type": "stream",
     "text": [
      "root\n",
      " |-- cicid: double (nullable = true)\n",
      " |-- i94yr: double (nullable = true)\n",
      " |-- i94mon: double (nullable = true)\n",
      " |-- i94cit: double (nullable = true)\n",
      " |-- i94res: double (nullable = true)\n",
      " |-- i94port: string (nullable = true)\n",
      " |-- arrdate: double (nullable = true)\n",
      " |-- i94mode: double (nullable = true)\n",
      " |-- i94addr: string (nullable = true)\n",
      " |-- depdate: double (nullable = true)\n",
      " |-- i94bir: double (nullable = true)\n",
      " |-- i94visa: double (nullable = true)\n",
      " |-- count: double (nullable = true)\n",
      " |-- dtadfile: string (nullable = true)\n",
      " |-- visapost: string (nullable = true)\n",
      " |-- occup: string (nullable = true)\n",
      " |-- entdepa: string (nullable = true)\n",
      " |-- entdepd: string (nullable = true)\n",
      " |-- entdepu: string (nullable = true)\n",
      " |-- matflag: string (nullable = true)\n",
      " |-- biryear: double (nullable = true)\n",
      " |-- dtaddto: string (nullable = true)\n",
      " |-- gender: string (nullable = true)\n",
      " |-- insnum: string (nullable = true)\n",
      " |-- airline: string (nullable = true)\n",
      " |-- admnum: double (nullable = true)\n",
      " |-- fltno: string (nullable = true)\n",
      " |-- visatype: string (nullable = true)\n",
      "\n",
      "+-----+------+------+------+------+-------+-------+-------+-------+-------+------+-------+-----+--------+--------+-----+-------+-------+-------+-------+-------+--------+------+------+-------+------------+-----+--------+\n",
      "|cicid|i94yr |i94mon|i94cit|i94res|i94port|arrdate|i94mode|i94addr|depdate|i94bir|i94visa|count|dtadfile|visapost|occup|entdepa|entdepd|entdepu|matflag|biryear|dtaddto |gender|insnum|airline|admnum      |fltno|visatype|\n",
      "+-----+------+------+------+------+-------+-------+-------+-------+-------+------+-------+-----+--------+--------+-----+-------+-------+-------+-------+-------+--------+------+------+-------+------------+-----+--------+\n",
      "|7.0  |2016.0|1.0   |101.0 |101.0 |BOS    |20465.0|1.0    |MA     |null   |20.0  |3.0    |1.0  |null    |null    |null |T      |null   |null   |null   |1996.0 |D/S     |M     |null  |LH     |3.46608285E8|424  |F1      |\n",
      "|8.0  |2016.0|1.0   |101.0 |101.0 |BOS    |20465.0|1.0    |MA     |null   |20.0  |3.0    |1.0  |null    |null    |null |T      |null   |null   |null   |1996.0 |D/S     |M     |null  |LH     |3.46627585E8|424  |F1      |\n",
      "|9.0  |2016.0|1.0   |101.0 |101.0 |BOS    |20469.0|1.0    |CT     |20480.0|17.0  |2.0    |1.0  |null    |null    |null |T      |N      |null   |M      |1999.0 |07152016|F     |null  |AF     |3.81092385E8|338  |B2      |\n",
      "|10.0 |2016.0|1.0   |101.0 |101.0 |BOS    |20469.0|1.0    |CT     |20499.0|45.0  |2.0    |1.0  |null    |null    |null |T      |N      |null   |M      |1971.0 |07152016|F     |null  |AF     |3.81087885E8|338  |B2      |\n",
      "|11.0 |2016.0|1.0   |101.0 |101.0 |BOS    |20469.0|1.0    |CT     |20499.0|12.0  |2.0    |1.0  |null    |null    |null |T      |N      |null   |M      |2004.0 |07152016|M     |null  |AF     |3.81078685E8|338  |B2      |\n",
      "+-----+------+------+------+------+-------+-------+-------+-------+-------+------+-------+-----+--------+--------+-----+-------+-------+-------+-------+-------+--------+------+------+-------+------------+-----+--------+\n",
      "only showing top 5 rows\n",
      "\n"
     ]
    }
   ],
   "source": [
    "i94_df_spark.printSchema()\n",
    "i94_df_spark.show(5, truncate=False)"
   ]
  },
  {
   "cell_type": "markdown",
   "metadata": {},
   "source": [
    "### 1.5 Read Airport code data to Spark"
   ]
  },
  {
   "cell_type": "code",
   "execution_count": 9,
   "metadata": {},
   "outputs": [],
   "source": [
    "#airport_schema = t.StructType([\n",
    "#                            t.StructField(\"dt\", t.StringType(), False),\n",
    "#                            t.StructField(\"AverageTemperature\", t.FloatType(), True),\n",
    "#                            t.StructField(\"AverageTemperatureUncertainty\", t.FloatType(), True),\n",
    "#                            t.StructField(\"City\", t.StringType(), False),\n",
    "#                            t.StructField(\"Country\", t.StringType(), False),\n",
    "#                            t.StructField(\"Latitude\", t.StringType(), False),\n",
    "#                            t.StructField(\"Longitude\", t.StringType(), False),\n",
    "#                        ])\n",
    "airport_codes_iata_df_spark = spark.read.csv(airport_codes, header=True)"
   ]
  },
  {
   "cell_type": "code",
   "execution_count": 10,
   "metadata": {},
   "outputs": [
    {
     "name": "stdout",
     "output_type": "stream",
     "text": [
      "root\n",
      " |-- ident: string (nullable = true)\n",
      " |-- type: string (nullable = true)\n",
      " |-- name: string (nullable = true)\n",
      " |-- elevation_ft: string (nullable = true)\n",
      " |-- continent: string (nullable = true)\n",
      " |-- iso_country: string (nullable = true)\n",
      " |-- iso_region: string (nullable = true)\n",
      " |-- municipality: string (nullable = true)\n",
      " |-- gps_code: string (nullable = true)\n",
      " |-- iata_code: string (nullable = true)\n",
      " |-- local_code: string (nullable = true)\n",
      " |-- coordinates: string (nullable = true)\n",
      "\n",
      "+-----+-------------+----------------------------------+------------+---------+-----------+----------+------------+--------+---------+----------+-------------------------------------+\n",
      "|ident|type         |name                              |elevation_ft|continent|iso_country|iso_region|municipality|gps_code|iata_code|local_code|coordinates                          |\n",
      "+-----+-------------+----------------------------------+------------+---------+-----------+----------+------------+--------+---------+----------+-------------------------------------+\n",
      "|00A  |heliport     |Total Rf Heliport                 |11          |NA       |US         |US-PA     |Bensalem    |00A     |null     |00A       |-74.93360137939453, 40.07080078125   |\n",
      "|00AA |small_airport|Aero B Ranch Airport              |3435        |NA       |US         |US-KS     |Leoti       |00AA    |null     |00AA      |-101.473911, 38.704022               |\n",
      "|00AK |small_airport|Lowell Field                      |450         |NA       |US         |US-AK     |Anchor Point|00AK    |null     |00AK      |-151.695999146, 59.94919968          |\n",
      "|00AL |small_airport|Epps Airpark                      |820         |NA       |US         |US-AL     |Harvest     |00AL    |null     |00AL      |-86.77030181884766, 34.86479949951172|\n",
      "|00AR |closed       |Newport Hospital & Clinic Heliport|237         |NA       |US         |US-AR     |Newport     |null    |null     |null      |-91.254898, 35.6087                  |\n",
      "+-----+-------------+----------------------------------+------------+---------+-----------+----------+------------+--------+---------+----------+-------------------------------------+\n",
      "only showing top 5 rows\n",
      "\n"
     ]
    }
   ],
   "source": [
    "airport_codes_iata_df_spark.printSchema()\n",
    "airport_codes_iata_df_spark.show(5, truncate=False)"
   ]
  },
  {
   "cell_type": "markdown",
   "metadata": {},
   "source": [
    "### 1.6 Read ISO Country Code data to Spark"
   ]
  },
  {
   "cell_type": "code",
   "execution_count": 165,
   "metadata": {},
   "outputs": [],
   "source": [
    "country_code_schema = t.StructType([\n",
    "                            t.StructField(\"alpha-2\", t.StringType(), False),\n",
    "                            t.StructField(\"alpha-3\", t.StringType(), False),\n",
    "                            t.StructField(\"country-code\", t.IntegerType(), False),\n",
    "                            t.StructField(\"intermediate-region\", t.StringType(), False),\n",
    "                            t.StructField(\"intermediate-region-code\", t.StringType(), False),\n",
    "                            t.StructField(\"iso-3166-2\", t.StringType(), False),\n",
    "                            t.StructField(\"name\", t.StringType(), False),\n",
    "                            t.StructField(\"region\", t.StringType(), True),\n",
    "                            t.StructField(\"region-code\", t.StringType(), True),\n",
    "                            t.StructField(\"sub-region\", t.StringType(), True),\n",
    "                            t.StructField(\"sub-region-code\", t.StringType(), True),\n",
    "                        ])\n",
    "country_codes_iso_df_spark = spark.createDataFrame(country_codes_df, schema=country_code_schema)"
   ]
  },
  {
   "cell_type": "code",
   "execution_count": 166,
   "metadata": {},
   "outputs": [
    {
     "name": "stdout",
     "output_type": "stream",
     "text": [
      "root\n",
      " |-- alpha-2: string (nullable = false)\n",
      " |-- alpha-3: string (nullable = false)\n",
      " |-- country-code: integer (nullable = false)\n",
      " |-- intermediate-region: string (nullable = false)\n",
      " |-- intermediate-region-code: string (nullable = false)\n",
      " |-- iso-3166-2: string (nullable = false)\n",
      " |-- name: string (nullable = false)\n",
      " |-- region: string (nullable = true)\n",
      " |-- region-code: string (nullable = true)\n",
      " |-- sub-region: string (nullable = true)\n",
      " |-- sub-region-code: string (nullable = true)\n",
      "\n",
      "+-------+-------+------------+-------------------+------------------------+-------------+--------------+-------+-----------+---------------+---------------+\n",
      "|alpha-2|alpha-3|country-code|intermediate-region|intermediate-region-code|iso-3166-2   |name          |region |region-code|sub-region     |sub-region-code|\n",
      "+-------+-------+------------+-------------------+------------------------+-------------+--------------+-------+-----------+---------------+---------------+\n",
      "|AF     |AFG    |4           |                   |                        |ISO 3166-2:AF|Afghanistan   |Asia   |142        |Southern Asia  |034            |\n",
      "|AX     |ALA    |248         |                   |                        |ISO 3166-2:AX|Åland Islands |Europe |150        |Northern Europe|154            |\n",
      "|AL     |ALB    |8           |                   |                        |ISO 3166-2:AL|Albania       |Europe |150        |Southern Europe|039            |\n",
      "|DZ     |DZA    |12          |                   |                        |ISO 3166-2:DZ|Algeria       |Africa |002        |Northern Africa|015            |\n",
      "|AS     |ASM    |16          |                   |                        |ISO 3166-2:AS|American Samoa|Oceania|009        |Polynesia      |061            |\n",
      "+-------+-------+------------+-------------------+------------------------+-------------+--------------+-------+-----------+---------------+---------------+\n",
      "only showing top 5 rows\n",
      "\n"
     ]
    }
   ],
   "source": [
    "country_codes_iso_df_spark.printSchema()\n",
    "country_codes_iso_df_spark.show(5, truncate=False)"
   ]
  },
  {
   "cell_type": "markdown",
   "metadata": {},
   "source": [
    "### 1.7 Read I94 Airport code data to Spark"
   ]
  },
  {
   "cell_type": "code",
   "execution_count": 13,
   "metadata": {},
   "outputs": [],
   "source": [
    "# Cleaning I94 Airport data first\n",
    "ac = {\"i94port_clean\": [], \"i94_airport_name_clean\": [], \"i94_state_clean\": []}\n",
    "codes = []\n",
    "names = []\n",
    "states = []\n",
    "for index, row in airport_codes_i94_df.iterrows():\n",
    "    y = re.sub(\"'\", \"\", index)\n",
    "    x = re.sub(\"'\", \"\", row[0])\n",
    "    z = re.sub(\"'\", \"\", row[0]).split(\",\")\n",
    "    y = y.strip()\n",
    "    z[0] = z[0].strip()\n",
    "    \n",
    "    if len(z) == 2:\n",
    "        codes.append(y)\n",
    "        names.append(z[0])\n",
    "        z[1] = z[1].strip()\n",
    "        states.append(z[1])\n",
    "    else:\n",
    "        codes.append(y)\n",
    "        names.append(z[0])\n",
    "        states.append(\"NaN\")\n",
    "\n",
    "ac[\"i94port_clean\"] = codes\n",
    "ac[\"i94_airport_name_clean\"] = names\n",
    "ac[\"i94_state_clean\"] = states\n",
    "\n",
    "airport_codes_i94_df_clean = pd.DataFrame.from_dict(ac)\n",
    "\n",
    "ac_path = output_data + \"/airport_codes_i94_clean.csv\"\n",
    "airport_codes_i94_df_clean.to_csv(ac_path, sep=',')"
   ]
  },
  {
   "cell_type": "code",
   "execution_count": 74,
   "metadata": {},
   "outputs": [],
   "source": [
    "airport_codes_i94_schema = t.StructType([\n",
    "                            t.StructField(\"i94_port\", t.StringType(), False),\n",
    "                            t.StructField(\"i94_airport_name\", t.StringType(), False),\n",
    "                            t.StructField(\"i94_airport_state\", t.StringType(), False)\n",
    "                        ])\n",
    "airport_codes_i94_df_spark = spark.createDataFrame(airport_codes_i94_df_clean, schema=airport_codes_i94_schema)"
   ]
  },
  {
   "cell_type": "code",
   "execution_count": 75,
   "metadata": {},
   "outputs": [
    {
     "name": "stdout",
     "output_type": "stream",
     "text": [
      "root\n",
      " |-- i94_port: string (nullable = false)\n",
      " |-- i94_airport_name: string (nullable = false)\n",
      " |-- i94_airport_state: string (nullable = false)\n",
      "\n",
      "+--------+------------------------+-----------------+\n",
      "|i94_port|i94_airport_name        |i94_airport_state|\n",
      "+--------+------------------------+-----------------+\n",
      "|ALC     |ALCAN                   |AK               |\n",
      "|ANC     |ANCHORAGE               |AK               |\n",
      "|BAR     |BAKER AAF - BAKER ISLAND|AK               |\n",
      "|DAC     |DALTONS CACHE           |AK               |\n",
      "|PIZ     |DEW STATION PT LAY DEW  |AK               |\n",
      "+--------+------------------------+-----------------+\n",
      "only showing top 5 rows\n",
      "\n"
     ]
    }
   ],
   "source": [
    "airport_codes_i94_df_spark.printSchema()\n",
    "airport_codes_i94_df_spark.show(5, truncate=False)"
   ]
  },
  {
   "cell_type": "markdown",
   "metadata": {},
   "source": [
    "### 1.8 Read I94 Country Code data to Spark"
   ]
  },
  {
   "cell_type": "code",
   "execution_count": 76,
   "metadata": {},
   "outputs": [],
   "source": [
    "# Cleaning I94 Country Code data first\n",
    "cc = {\"i94cit_clean\": [], \"i94_country_name_clean\": []}\n",
    "ccodes = []\n",
    "cnames = []\n",
    "\n",
    "for index, row in country_codes_i94_df.iterrows():\n",
    "    x = re.sub(\"'\", \"\", row[0]).strip()\n",
    "    ccodes.append(index)\n",
    "    cnames.append(x)\n",
    "\n",
    "cc[\"i94cit_clean\"] = ccodes\n",
    "cc[\"i94_country_name_clean\"] = cnames\n",
    "\n",
    "country_codes_i94_df_clean = pd.DataFrame.from_dict(cc)\n",
    "\n",
    "cc_path = input_data + \"/country_codes_i94_clean.csv\"\n",
    "country_codes_i94_df_clean.to_csv(cc_path, sep=',')"
   ]
  },
  {
   "cell_type": "code",
   "execution_count": 77,
   "metadata": {},
   "outputs": [],
   "source": [
    "country_codes_i94_schema = t.StructType([\n",
    "                            t.StructField(\"i94_cit\", t.StringType(), False),\n",
    "                            t.StructField(\"i94_country_name\", t.StringType(), False)\n",
    "                        ])\n",
    "country_codes_i94_df_spark = spark.createDataFrame(country_codes_i94_df_clean, schema=country_codes_i94_schema)"
   ]
  },
  {
   "cell_type": "code",
   "execution_count": 78,
   "metadata": {},
   "outputs": [
    {
     "name": "stdout",
     "output_type": "stream",
     "text": [
      "root\n",
      " |-- i94_cit: string (nullable = false)\n",
      " |-- i94_country_name: string (nullable = false)\n",
      "\n",
      "+-------+----------------+\n",
      "|i94_cit|i94_country_name|\n",
      "+-------+----------------+\n",
      "|582    |MEXICO          |\n",
      "|236    |AFGHANISTAN     |\n",
      "|101    |ALBANIA         |\n",
      "|316    |ALGERIA         |\n",
      "|102    |ANDORRA         |\n",
      "+-------+----------------+\n",
      "only showing top 5 rows\n",
      "\n"
     ]
    }
   ],
   "source": [
    "country_codes_i94_df_spark.printSchema()\n",
    "country_codes_i94_df_spark.show(5, truncate=False)"
   ]
  },
  {
   "cell_type": "markdown",
   "metadata": {},
   "source": [
    "### 1.9 Write Spark DataFrames to parquet files"
   ]
  },
  {
   "cell_type": "code",
   "execution_count": 19,
   "metadata": {},
   "outputs": [
    {
     "name": "stdout",
     "output_type": "stream",
     "text": [
      "2019-08-15-06-26-27-251294\n"
     ]
    }
   ],
   "source": [
    "start_time = datetime.now().strftime('%Y-%m-%d-%H-%M-%S-%f')\n",
    "print(start_time)"
   ]
  },
  {
   "cell_type": "code",
   "execution_count": 20,
   "metadata": {},
   "outputs": [
    {
     "name": "stdout",
     "output_type": "stream",
     "text": [
      "OUTPUT: data/output_data/i94_staging.parquet_2019-08-15-06-26-27-251294\n",
      "Writing DONE.\n"
     ]
    }
   ],
   "source": [
    "# Write Temperature data to parquet file:\n",
    "i94_df_path = output_data + \"i94_staging.parquet\" + \"_\" + start_time\n",
    "print(f\"OUTPUT: {i94_df_path}\")\n",
    "i94_df_spark.write.mode(\"overwrite\").parquet(i94_df_path)\n",
    "print(\"Writing DONE.\")\n",
    "\n",
    "# Read parquet file back to Spark:\n",
    "i94_df_spark = spark.read.parquet(i94_df_path)"
   ]
  },
  {
   "cell_type": "code",
   "execution_count": 42,
   "metadata": {},
   "outputs": [],
   "source": [
    "#i94_df_spark.printSchema()\n",
    "#i94_df_spark.show(5, truncate=False)"
   ]
  },
  {
   "cell_type": "code",
   "execution_count": 21,
   "metadata": {},
   "outputs": [
    {
     "name": "stdout",
     "output_type": "stream",
     "text": [
      "OUTPUT: data/output_data/airport_codes_i94_staging.parquet_2019-08-15-06-26-27-251294\n",
      "Writing DONE.\n"
     ]
    }
   ],
   "source": [
    "# Write I94 Airport data to parquet file:\n",
    "airport_codes_i94_df_path = output_data + \"airport_codes_i94_staging.parquet\" + \"_\" + start_time\n",
    "print(f\"OUTPUT: {airport_codes_i94_df_path}\")\n",
    "airport_codes_i94_df_spark.write.mode(\"overwrite\").parquet(airport_codes_i94_df_path)\n",
    "print(\"Writing DONE.\")\n",
    "\n",
    "# Read parquet file back to Spark:\n",
    "airport_codes_i94_df_spark = spark.read.parquet(airport_codes_i94_df_path)"
   ]
  },
  {
   "cell_type": "code",
   "execution_count": 50,
   "metadata": {},
   "outputs": [],
   "source": [
    "#airport_codes_i94_df_spark.printSchema()\n",
    "#airport_codes_i94_df_spark.show(5, truncate=False)"
   ]
  },
  {
   "cell_type": "code",
   "execution_count": 22,
   "metadata": {},
   "outputs": [
    {
     "name": "stdout",
     "output_type": "stream",
     "text": [
      "OUTPUT: data/output_data/country_codes_i94_staging.parquet_2019-08-15-06-26-27-251294\n",
      "Writing DONE.\n"
     ]
    }
   ],
   "source": [
    "# Write i94 Country data to parquet file:\n",
    "country_codes_i94_df_path = output_data + \"country_codes_i94_staging.parquet\" + \"_\" + start_time\n",
    "print(f\"OUTPUT: {country_codes_i94_df_path}\")\n",
    "country_codes_i94_df_spark.write.mode(\"overwrite\").parquet(country_codes_i94_df_path)\n",
    "print(\"Writing DONE.\")\n",
    "\n",
    "# Read parquet file back to Spark:\n",
    "country_codes_i94_df_spark = spark.read.parquet(country_codes_i94_df_path)"
   ]
  },
  {
   "cell_type": "code",
   "execution_count": 45,
   "metadata": {},
   "outputs": [],
   "source": [
    "#country_codes_i94_df_spark.printSchema()\n",
    "#country_codes_i94_df_spark.show(5, truncate=False)"
   ]
  },
  {
   "cell_type": "code",
   "execution_count": 23,
   "metadata": {},
   "outputs": [
    {
     "name": "stdout",
     "output_type": "stream",
     "text": [
      "OUTPUT: data/output_data/airport_codes_iata_staging.parquet_2019-08-15-06-26-27-251294\n",
      "Writing DONE.\n"
     ]
    }
   ],
   "source": [
    "# Write IATA Airport data to parquet file:\n",
    "airport_codes_iata_df_path = output_data + \"airport_codes_iata_staging.parquet\" + \"_\" + start_time\n",
    "print(f\"OUTPUT: {airport_codes_iata_df_path}\")\n",
    "airport_codes_iata_df_spark.write.mode(\"overwrite\").parquet(airport_codes_iata_df_path)\n",
    "print(\"Writing DONE.\")\n",
    "\n",
    "# Read parquet file back to Spark:\n",
    "airport_codes_iata_df_spark = spark.read.parquet(airport_codes_iata_df_path)"
   ]
  },
  {
   "cell_type": "code",
   "execution_count": 63,
   "metadata": {},
   "outputs": [],
   "source": [
    "#airport_codes_iata_df_spark.printSchema()\n",
    "#airport_codes_iata_df_spark.show(5, truncate=False)"
   ]
  },
  {
   "cell_type": "code",
   "execution_count": 167,
   "metadata": {},
   "outputs": [
    {
     "name": "stdout",
     "output_type": "stream",
     "text": [
      "OUTPUT: data/output_data/country_codes_iso_staging.parquet_2019-08-15-12-22-26-417652\n",
      "Writing DONE.\n"
     ]
    }
   ],
   "source": [
    "# Write ISO-3166 Country Code data to parquet file:\n",
    "country_codes_iso_df_path = output_data + \"country_codes_iso_staging.parquet\" + \"_\" + start_time\n",
    "print(f\"OUTPUT: {country_codes_iso_df_path}\")\n",
    "country_codes_iso_df_spark.write.mode(\"overwrite\").parquet(country_codes_iso_df_path)\n",
    "print(\"Writing DONE.\")\n",
    "\n",
    "# Read parquet file back to Spark:\n",
    "country_code_iso_df_spark = spark.read.parquet(country_codes_iso_df_path)"
   ]
  },
  {
   "cell_type": "code",
   "execution_count": 56,
   "metadata": {},
   "outputs": [],
   "source": [
    "#country_codes_iso_df_spark.printSchema()\n",
    "#country_codes_iso_df_spark.show(5, truncate=False)"
   ]
  },
  {
   "cell_type": "markdown",
   "metadata": {},
   "source": [
    "--------------------\n",
    "### Step 2: Explore and Assess the Data\n",
    "#### Explore the Data \n",
    "_Identify data quality issues, like missing values, duplicate data, etc._\n",
    "\n",
    "Input data has the following quality issues:\n",
    "    \n",
    "* I94 Immigration data: \n",
    "    * Most of the columns are missing some info (nulls).\n",
    "    * All missing info need to be filled-in to avoid errors further in the pipeline. \n",
    "    \n",
    "* I94 Airport data: \n",
    "    * Data has quote marks and extra white spaces aftwer copy-paste operation.\n",
    "    * Original data was cleaned-up already before importing to Spark.\n",
    "    \n",
    "* I94 Country code data: \n",
    "    * Data has quote marks and extra white spaces aftwer copy-paste operation.\n",
    "    * Original data was cleaned-up already before importing to Spark.\n",
    "\n",
    "* ISO3166 Country data:\n",
    "    * Antarctica (row) is missing data from some columns.\n",
    "\n",
    "#### Cleaning Steps\n",
    "_Document steps necessary to clean the data_\n",
    "\n",
    "Input data needs the following cleaning operations:\n",
    "* I94 data:\n",
    "    * All missing (null) data is handled in all columns. \n",
    "    * Nulls are replaced with either NA (string), or 0.0 (double).\n",
    "    \n",
    "* I94 Airport data: \n",
    "    * Remove quote marks and extra white spaces from the data.\n",
    "* I94 Country Code data: \n",
    "    * Remove quote marks and extra white spaces from the data.\n",
    "* ISO Country Code data:\n",
    "    * No action required. Antarctica is handled as a special case to avoid duplicate data."
   ]
  },
  {
   "cell_type": "markdown",
   "metadata": {},
   "source": [
    "### 2.1 Cleaning the data"
   ]
  },
  {
   "cell_type": "markdown",
   "metadata": {},
   "source": [
    "#### 2.1.1 Clean I94 Immigration data"
   ]
  },
  {
   "cell_type": "code",
   "execution_count": 155,
   "metadata": {},
   "outputs": [
    {
     "name": "stdout",
     "output_type": "stream",
     "text": [
      "Filling NULLs DONE.\n"
     ]
    }
   ],
   "source": [
    "i94_df_spark_clean = i94_df_spark.na.fill({'i94mode': 0.0, 'i94addr': 'NA','depdate': 0.0, 'i94bir': 'NA', \\\n",
    "                        'i94visa': 0.0, 'count': 0.0, 'dtadfile': 'NA', 'visapost': 'NA', \\\n",
    "                        'occup': 'NA', 'entdepa': 'NA', 'entdepd': 'NA', 'entdepu': 'NA', \\\n",
    "                        'matflag': 'NA', 'biryear': 0.0, 'dtaddto': 'NA', 'gender': 'NA', \\\n",
    "                        'insnum': 'NA', 'airline': 'NA', 'admnum': 0.0, 'fltno': 'NA', 'visatype': 'NA'})\n",
    "print(\"Filling NULLs DONE.\")"
   ]
  },
  {
   "cell_type": "code",
   "execution_count": 156,
   "metadata": {},
   "outputs": [],
   "source": [
    "# No cleaning actions. All necessary columns have clean data.\n",
    "i94_df_spark_clean.createOrReplaceTempView(\"immigrants_table_DF\")\n",
    "immigrants_table_check = spark.sql(\"\"\"\n",
    "    SELECT  cicid, i94yr, i94mon, i94cit, i94res, i94port, arrdate, \\\n",
    "            i94mode, airline, fltno, depdate, i94bir, i94visa, gender,  \\\n",
    "            visatype, admnum\n",
    "    FROM immigrants_table_DF\n",
    "    WHERE   cicid == null OR arrdate == null OR i94port == null \\\n",
    "            OR fltno == null OR i94mode == null OR admnum == null \\\n",
    "            OR gender == null OR admnum == null \n",
    "    ORDER BY arrdate\n",
    "\"\"\")\n",
    "#immigrants_table_check.printSchema()\n",
    "#immigrants_table_check.show(20)"
   ]
  },
  {
   "cell_type": "code",
   "execution_count": 123,
   "metadata": {},
   "outputs": [
    {
     "name": "stdout",
     "output_type": "stream",
     "text": [
      "+-----+------+------+------+------+-------+-------+-------+-------+-------+------+-------+-----+--------+--------+-----+-------+-------+-------+-------+-------+--------+------+------+-------+------------+-----+--------+---------+----------+-------------------+\n",
      "|cicid|i94yr |i94mon|i94cit|i94res|i94port|arrdate|i94mode|i94addr|depdate|i94bir|i94visa|count|dtadfile|visapost|occup|entdepa|entdepd|entdepu|matflag|biryear|dtaddto |gender|insnum|airline|admnum      |fltno|visatype|person_id|i94res_str|arrival_ts         |\n",
      "+-----+------+------+------+------+-------+-------+-------+-------+-------+------+-------+-----+--------+--------+-----+-------+-------+-------+-------+-------+--------+------+------+-------+------------+-----+--------+---------+----------+-------------------+\n",
      "|7.0  |2016.0|1.0   |101.0 |101.0 |BOS    |20465.0|1.0    |MA     |0.0    |20.0  |3.0    |1.0  |NA      |NA      |NA   |T      |NA     |NA     |NA     |1996.0 |D/S     |M     |NA    |LH     |3.46608285E8|424  |F1      |0        |101       |2016-01-12 00:00:00|\n",
      "|8.0  |2016.0|1.0   |101.0 |101.0 |BOS    |20465.0|1.0    |MA     |0.0    |20.0  |3.0    |1.0  |NA      |NA      |NA   |T      |NA     |NA     |NA     |1996.0 |D/S     |M     |NA    |LH     |3.46627585E8|424  |F1      |1        |101       |2016-01-12 00:00:00|\n",
      "|9.0  |2016.0|1.0   |101.0 |101.0 |BOS    |20469.0|1.0    |CT     |20480.0|17.0  |2.0    |1.0  |NA      |NA      |NA   |T      |N      |NA     |M      |1999.0 |07152016|F     |NA    |AF     |3.81092385E8|338  |B2      |2        |101       |2016-01-16 00:00:00|\n",
      "|10.0 |2016.0|1.0   |101.0 |101.0 |BOS    |20469.0|1.0    |CT     |20499.0|45.0  |2.0    |1.0  |NA      |NA      |NA   |T      |N      |NA     |M      |1971.0 |07152016|F     |NA    |AF     |3.81087885E8|338  |B2      |3        |101       |2016-01-16 00:00:00|\n",
      "|11.0 |2016.0|1.0   |101.0 |101.0 |BOS    |20469.0|1.0    |CT     |20499.0|12.0  |2.0    |1.0  |NA      |NA      |NA   |T      |N      |NA     |M      |2004.0 |07152016|M     |NA    |AF     |3.81078685E8|338  |B2      |4        |101       |2016-01-16 00:00:00|\n",
      "|12.0 |2016.0|1.0   |101.0 |101.0 |BOS    |20474.0|1.0    |MA     |0.0    |33.0  |2.0    |1.0  |NA      |NA      |NA   |T      |NA     |NA     |NA     |1983.0 |07202016|M     |NA    |LH     |4.06155985E8|424  |B2      |5        |101       |2016-01-21 00:00:00|\n",
      "|15.0 |2016.0|1.0   |101.0 |101.0 |BOS    |20477.0|1.0    |MA     |20524.0|28.0  |3.0    |1.0  |NA      |NA      |NA   |T      |O      |NA     |M      |1988.0 |D/S     |F     |NA    |LH     |4.17363085E8|424  |F1      |6        |101       |2016-01-24 00:00:00|\n",
      "|17.0 |2016.0|1.0   |101.0 |101.0 |BOS    |20480.0|1.0    |MA     |0.0    |78.0  |2.0    |1.0  |NA      |NA      |NA   |T      |NA     |NA     |NA     |1938.0 |07262016|M     |NA    |TK     |4.28558285E8|81   |B2      |7        |101       |2016-01-27 00:00:00|\n",
      "|18.0 |2016.0|1.0   |101.0 |101.0 |BOS    |20480.0|1.0    |MA     |0.0    |70.0  |2.0    |1.0  |NA      |NA      |NA   |T      |NA     |NA     |NA     |1946.0 |07262016|F     |NA    |TK     |4.28561085E8|81   |B2      |8        |101       |2016-01-27 00:00:00|\n",
      "|20.0 |2016.0|1.0   |101.0 |101.0 |CHI    |20473.0|1.0    |IL     |20482.0|28.0  |2.0    |1.0  |NA      |NA      |NA   |T      |O      |NA     |M      |1988.0 |07192016|M     |NA    |BA     |4.01779785E8|295  |B2      |9        |101       |2016-01-20 00:00:00|\n",
      "+-----+------+------+------+------+-------+-------+-------+-------+-------+------+-------+-----+--------+--------+-----+-------+-------+-------+-------+-------+--------+------+------+-------+------------+-----+--------+---------+----------+-------------------+\n",
      "only showing top 10 rows\n",
      "\n"
     ]
    }
   ],
   "source": [
    "#i94_df_spark_clean.show(10, truncate=False)"
   ]
  },
  {
   "cell_type": "markdown",
   "metadata": {},
   "source": [
    "#### 2.1.2 Clean I94 Airport data"
   ]
  },
  {
   "cell_type": "code",
   "execution_count": 36,
   "metadata": {},
   "outputs": [
    {
     "data": {
      "text/html": [
       "<div>\n",
       "<style scoped>\n",
       "    .dataframe tbody tr th:only-of-type {\n",
       "        vertical-align: middle;\n",
       "    }\n",
       "\n",
       "    .dataframe tbody tr th {\n",
       "        vertical-align: top;\n",
       "    }\n",
       "\n",
       "    .dataframe thead th {\n",
       "        text-align: right;\n",
       "    }\n",
       "</style>\n",
       "<table border=\"1\" class=\"dataframe\">\n",
       "  <thead>\n",
       "    <tr style=\"text-align: right;\">\n",
       "      <th></th>\n",
       "      <th>i94port_clean</th>\n",
       "      <th>i94_airport_name_clean</th>\n",
       "      <th>i94_state_clean</th>\n",
       "    </tr>\n",
       "  </thead>\n",
       "  <tbody>\n",
       "    <tr>\n",
       "      <th>0</th>\n",
       "      <td>ALC</td>\n",
       "      <td>ALCAN</td>\n",
       "      <td>AK</td>\n",
       "    </tr>\n",
       "    <tr>\n",
       "      <th>1</th>\n",
       "      <td>ANC</td>\n",
       "      <td>ANCHORAGE</td>\n",
       "      <td>AK</td>\n",
       "    </tr>\n",
       "    <tr>\n",
       "      <th>2</th>\n",
       "      <td>BAR</td>\n",
       "      <td>BAKER AAF - BAKER ISLAND</td>\n",
       "      <td>AK</td>\n",
       "    </tr>\n",
       "    <tr>\n",
       "      <th>3</th>\n",
       "      <td>DAC</td>\n",
       "      <td>DALTONS CACHE</td>\n",
       "      <td>AK</td>\n",
       "    </tr>\n",
       "    <tr>\n",
       "      <th>4</th>\n",
       "      <td>PIZ</td>\n",
       "      <td>DEW STATION PT LAY DEW</td>\n",
       "      <td>AK</td>\n",
       "    </tr>\n",
       "    <tr>\n",
       "      <th>5</th>\n",
       "      <td>DTH</td>\n",
       "      <td>DUTCH HARBOR</td>\n",
       "      <td>AK</td>\n",
       "    </tr>\n",
       "    <tr>\n",
       "      <th>6</th>\n",
       "      <td>EGL</td>\n",
       "      <td>EAGLE</td>\n",
       "      <td>AK</td>\n",
       "    </tr>\n",
       "    <tr>\n",
       "      <th>7</th>\n",
       "      <td>FRB</td>\n",
       "      <td>FAIRBANKS</td>\n",
       "      <td>AK</td>\n",
       "    </tr>\n",
       "    <tr>\n",
       "      <th>8</th>\n",
       "      <td>HOM</td>\n",
       "      <td>HOMER</td>\n",
       "      <td>AK</td>\n",
       "    </tr>\n",
       "    <tr>\n",
       "      <th>9</th>\n",
       "      <td>HYD</td>\n",
       "      <td>HYDER</td>\n",
       "      <td>AK</td>\n",
       "    </tr>\n",
       "  </tbody>\n",
       "</table>\n",
       "</div>"
      ],
      "text/plain": [
       "  i94port_clean    i94_airport_name_clean   i94_state_clean\n",
       "0           ALC                     ALCAN   AK             \n",
       "1           ANC                 ANCHORAGE       AK         \n",
       "2           BAR  BAKER AAF - BAKER ISLAND                AK\n",
       "3           DAC             DALTONS CACHE           AK     \n",
       "4           PIZ    DEW STATION PT LAY DEW                AK\n",
       "5           DTH              DUTCH HARBOR          AK      \n",
       "6           EGL                     EAGLE   AK             \n",
       "7           FRB                 FAIRBANKS       AK         \n",
       "8           HOM                     HOMER   AK             \n",
       "9           HYD                     HYDER   AK             "
      ]
     },
     "execution_count": 36,
     "metadata": {},
     "output_type": "execute_result"
    }
   ],
   "source": [
    "airport_codes_i94_df_clean.head(10)"
   ]
  },
  {
   "cell_type": "markdown",
   "metadata": {},
   "source": [
    "#### 2.1.3 Clean I94 Country Code data"
   ]
  },
  {
   "cell_type": "code",
   "execution_count": 35,
   "metadata": {},
   "outputs": [
    {
     "data": {
      "text/html": [
       "<div>\n",
       "<style scoped>\n",
       "    .dataframe tbody tr th:only-of-type {\n",
       "        vertical-align: middle;\n",
       "    }\n",
       "\n",
       "    .dataframe tbody tr th {\n",
       "        vertical-align: top;\n",
       "    }\n",
       "\n",
       "    .dataframe thead th {\n",
       "        text-align: right;\n",
       "    }\n",
       "</style>\n",
       "<table border=\"1\" class=\"dataframe\">\n",
       "  <thead>\n",
       "    <tr style=\"text-align: right;\">\n",
       "      <th></th>\n",
       "      <th>i94cit_clean</th>\n",
       "      <th>i94_country_name_clean</th>\n",
       "    </tr>\n",
       "  </thead>\n",
       "  <tbody>\n",
       "    <tr>\n",
       "      <th>0</th>\n",
       "      <td>582</td>\n",
       "      <td>MEXICO</td>\n",
       "    </tr>\n",
       "    <tr>\n",
       "      <th>1</th>\n",
       "      <td>236</td>\n",
       "      <td>AFGHANISTAN</td>\n",
       "    </tr>\n",
       "    <tr>\n",
       "      <th>2</th>\n",
       "      <td>101</td>\n",
       "      <td>ALBANIA</td>\n",
       "    </tr>\n",
       "    <tr>\n",
       "      <th>3</th>\n",
       "      <td>316</td>\n",
       "      <td>ALGERIA</td>\n",
       "    </tr>\n",
       "    <tr>\n",
       "      <th>4</th>\n",
       "      <td>102</td>\n",
       "      <td>ANDORRA</td>\n",
       "    </tr>\n",
       "    <tr>\n",
       "      <th>5</th>\n",
       "      <td>324</td>\n",
       "      <td>ANGOLA</td>\n",
       "    </tr>\n",
       "    <tr>\n",
       "      <th>6</th>\n",
       "      <td>529</td>\n",
       "      <td>ANGUILLA</td>\n",
       "    </tr>\n",
       "    <tr>\n",
       "      <th>7</th>\n",
       "      <td>518</td>\n",
       "      <td>ANTIGUA-BARBUDA</td>\n",
       "    </tr>\n",
       "    <tr>\n",
       "      <th>8</th>\n",
       "      <td>687</td>\n",
       "      <td>ARGENTINA</td>\n",
       "    </tr>\n",
       "    <tr>\n",
       "      <th>9</th>\n",
       "      <td>151</td>\n",
       "      <td>ARMENIA</td>\n",
       "    </tr>\n",
       "  </tbody>\n",
       "</table>\n",
       "</div>"
      ],
      "text/plain": [
       "   i94cit_clean i94_country_name_clean\n",
       "0           582                 MEXICO\n",
       "1           236            AFGHANISTAN\n",
       "2           101                ALBANIA\n",
       "3           316                ALGERIA\n",
       "4           102                ANDORRA\n",
       "5           324                 ANGOLA\n",
       "6           529               ANGUILLA\n",
       "7           518        ANTIGUA-BARBUDA\n",
       "8           687              ARGENTINA\n",
       "9           151                ARMENIA"
      ]
     },
     "execution_count": 35,
     "metadata": {},
     "output_type": "execute_result"
    }
   ],
   "source": [
    "country_codes_i94_df_clean.head(10)"
   ]
  },
  {
   "cell_type": "markdown",
   "metadata": {},
   "source": [
    "#### 2.1.4 Clean ISO Country Codes data"
   ]
  },
  {
   "cell_type": "code",
   "execution_count": 171,
   "metadata": {},
   "outputs": [
    {
     "name": "stdout",
     "output_type": "stream",
     "text": [
      "root\n",
      " |-- alpha-2: string (nullable = false)\n",
      " |-- alpha-3: string (nullable = false)\n",
      " |-- country-code: integer (nullable = false)\n",
      " |-- intermediate-region: string (nullable = false)\n",
      " |-- intermediate-region-code: string (nullable = false)\n",
      " |-- iso-3166-2: string (nullable = false)\n",
      " |-- name: string (nullable = false)\n",
      " |-- region: string (nullable = true)\n",
      " |-- region-code: string (nullable = true)\n",
      " |-- sub-region: string (nullable = true)\n",
      " |-- sub-region-code: string (nullable = true)\n",
      "\n",
      "+-------+-------+------------+-------------------+------------------------+-------------+--------------+-------+-----------+---------------+---------------+\n",
      "|alpha-2|alpha-3|country-code|intermediate-region|intermediate-region-code|iso-3166-2   |name          |region |region-code|sub-region     |sub-region-code|\n",
      "+-------+-------+------------+-------------------+------------------------+-------------+--------------+-------+-----------+---------------+---------------+\n",
      "|AF     |AFG    |4           |                   |                        |ISO 3166-2:AF|Afghanistan   |Asia   |142        |Southern Asia  |034            |\n",
      "|AX     |ALA    |248         |                   |                        |ISO 3166-2:AX|Åland Islands |Europe |150        |Northern Europe|154            |\n",
      "|AL     |ALB    |8           |                   |                        |ISO 3166-2:AL|Albania       |Europe |150        |Southern Europe|039            |\n",
      "|DZ     |DZA    |12          |                   |                        |ISO 3166-2:DZ|Algeria       |Africa |002        |Northern Africa|015            |\n",
      "|AS     |ASM    |16          |                   |                        |ISO 3166-2:AS|American Samoa|Oceania|009        |Polynesia      |061            |\n",
      "+-------+-------+------------+-------------------+------------------------+-------------+--------------+-------+-----------+---------------+---------------+\n",
      "only showing top 5 rows\n",
      "\n"
     ]
    },
    {
     "data": {
      "text/plain": [
       "249"
      ]
     },
     "execution_count": 171,
     "metadata": {},
     "output_type": "execute_result"
    }
   ],
   "source": [
    "country_codes_iso_df_spark.printSchema()\n",
    "country_codes_iso_df_spark.show(5, truncate=False)\n",
    "country_codes_iso_df_spark.count()"
   ]
  },
  {
   "cell_type": "code",
   "execution_count": 177,
   "metadata": {},
   "outputs": [
    {
     "name": "stdout",
     "output_type": "stream",
     "text": [
      "Filling NULLs DONE.\n"
     ]
    }
   ],
   "source": [
    "country_codes_iso_df_spark_clean = country_codes_iso_df_spark.na.fill({'alpha-2': 'NA', 'alpha-3': 'NA', \\\n",
    "                                            'country-code': 0, 'intermediate-region': 'NA', \\\n",
    "                                            'intermediate-region-code': 'NA', 'iso-3166-2': 'NA', \\\n",
    "                                            'name': 'NA', 'region': 'NA', 'region-code': 'NA', \\\n",
    "                                           'sub-region': 'NA', 'sub-region-code': 'NA'})\n",
    "print(\"Filling NULLs DONE.\")"
   ]
  },
  {
   "cell_type": "code",
   "execution_count": 178,
   "metadata": {},
   "outputs": [
    {
     "name": "stdout",
     "output_type": "stream",
     "text": [
      "+-------+-------+------------+-------------------+------------------------+-------------+----------+------+-----------+----------+---------------+\n",
      "|alpha-2|alpha-3|country-code|intermediate-region|intermediate-region-code|   iso-3166-2|      name|region|region-code|sub-region|sub-region-code|\n",
      "+-------+-------+------------+-------------------+------------------------+-------------+----------+------+-----------+----------+---------------+\n",
      "|     AQ|    ATA|          10|                   |                        |ISO 3166-2:AQ|Antarctica|      |           |          |               |\n",
      "+-------+-------+------------+-------------------+------------------------+-------------+----------+------+-----------+----------+---------------+\n",
      "\n"
     ]
    }
   ],
   "source": [
    "country_codes_iso_df_spark_clean.filter(country_codes_iso_df_spark_clean.name == \"Antarctica\").show()\n"
   ]
  },
  {
   "cell_type": "code",
   "execution_count": 174,
   "metadata": {},
   "outputs": [
    {
     "name": "stdout",
     "output_type": "stream",
     "text": [
      "+-------+-------+------------+-------------------+------------------------+-------------+-------------------+--------+-----------+--------------------+---------------+\n",
      "|alpha-2|alpha-3|country-code|intermediate-region|intermediate-region-code|   iso-3166-2|               name|  region|region-code|          sub-region|sub-region-code|\n",
      "+-------+-------+------------+-------------------+------------------------+-------------+-------------------+--------+-----------+--------------------+---------------+\n",
      "|     AF|    AFG|           4|                   |                        |ISO 3166-2:AF|        Afghanistan|    Asia|        142|       Southern Asia|            034|\n",
      "|     AX|    ALA|         248|                   |                        |ISO 3166-2:AX|      Åland Islands|  Europe|        150|     Northern Europe|            154|\n",
      "|     AL|    ALB|           8|                   |                        |ISO 3166-2:AL|            Albania|  Europe|        150|     Southern Europe|            039|\n",
      "|     DZ|    DZA|          12|                   |                        |ISO 3166-2:DZ|            Algeria|  Africa|        002|     Northern Africa|            015|\n",
      "|     AS|    ASM|          16|                   |                        |ISO 3166-2:AS|     American Samoa| Oceania|        009|           Polynesia|            061|\n",
      "|     AD|    AND|          20|                   |                        |ISO 3166-2:AD|            Andorra|  Europe|        150|     Southern Europe|            039|\n",
      "|     AO|    AGO|          24|      Middle Africa|                     017|ISO 3166-2:AO|             Angola|  Africa|        002|  Sub-Saharan Africa|            202|\n",
      "|     AI|    AIA|         660|          Caribbean|                     029|ISO 3166-2:AI|           Anguilla|Americas|        019|Latin America and...|            419|\n",
      "|     AQ|    ATA|          10|                   |                        |ISO 3166-2:AQ|         Antarctica|        |           |                    |               |\n",
      "|     AG|    ATG|          28|          Caribbean|                     029|ISO 3166-2:AG|Antigua and Barbuda|Americas|        019|Latin America and...|            419|\n",
      "|     AR|    ARG|          32|      South America|                     005|ISO 3166-2:AR|          Argentina|Americas|        019|Latin America and...|            419|\n",
      "|     AM|    ARM|          51|                   |                        |ISO 3166-2:AM|            Armenia|    Asia|        142|        Western Asia|            145|\n",
      "|     AW|    ABW|         533|          Caribbean|                     029|ISO 3166-2:AW|              Aruba|Americas|        019|Latin America and...|            419|\n",
      "|     AU|    AUS|          36|                   |                        |ISO 3166-2:AU|          Australia| Oceania|        009|Australia and New...|            053|\n",
      "|     AT|    AUT|          40|                   |                        |ISO 3166-2:AT|            Austria|  Europe|        150|      Western Europe|            155|\n",
      "|     AZ|    AZE|          31|                   |                        |ISO 3166-2:AZ|         Azerbaijan|    Asia|        142|        Western Asia|            145|\n",
      "|     BS|    BHS|          44|          Caribbean|                     029|ISO 3166-2:BS|            Bahamas|Americas|        019|Latin America and...|            419|\n",
      "|     BH|    BHR|          48|                   |                        |ISO 3166-2:BH|            Bahrain|    Asia|        142|        Western Asia|            145|\n",
      "|     BD|    BGD|          50|                   |                        |ISO 3166-2:BD|         Bangladesh|    Asia|        142|       Southern Asia|            034|\n",
      "|     BB|    BRB|          52|          Caribbean|                     029|ISO 3166-2:BB|           Barbados|Americas|        019|Latin America and...|            419|\n",
      "+-------+-------+------------+-------------------+------------------------+-------------+-------------------+--------+-----------+--------------------+---------------+\n",
      "only showing top 20 rows\n",
      "\n"
     ]
    }
   ],
   "source": [
    "country_codes_iso_df_spark_clean.show(20)"
   ]
  },
  {
   "cell_type": "markdown",
   "metadata": {},
   "source": [
    "---------\n",
    "### Step 3: Define the Data Model\n",
    "#### 3.1 Conceptual Data Model\n",
    "_Map out the conceptual data model and explain why you chose that model_\n",
    "\n",
    "\n",
    "#### 3.2 Mapping Out Data Pipelines\n",
    "_List the steps necessary to pipeline the data into the chosen data model_\n"
   ]
  },
  {
   "cell_type": "markdown",
   "metadata": {},
   "source": [
    "-----------\n",
    "### Step 4: Run Pipelines to Model the Data \n",
    "#### 4.1 Create the data model\n",
    "Build the data pipelines to create the data model."
   ]
  },
  {
   "cell_type": "code",
   "execution_count": 124,
   "metadata": {},
   "outputs": [
    {
     "name": "stdout",
     "output_type": "stream",
     "text": [
      "2019-08-15-12-22-26-417652\n"
     ]
    }
   ],
   "source": [
    "# Write code here\n",
    "start_time = datetime.now().strftime('%Y-%m-%d-%H-%M-%S-%f')\n",
    "print(start_time)"
   ]
  },
  {
   "cell_type": "markdown",
   "metadata": {},
   "source": [
    "#### 4.1.1 Create persons table + write to parquet file"
   ]
  },
  {
   "cell_type": "code",
   "execution_count": 130,
   "metadata": {},
   "outputs": [
    {
     "name": "stdout",
     "output_type": "stream",
     "text": [
      "root\n",
      " |-- admission_nbr: double (nullable = false)\n",
      " |-- country_code: double (nullable = true)\n",
      " |-- age: double (nullable = true)\n",
      " |-- visa_code: double (nullable = false)\n",
      " |-- visa_type: string (nullable = false)\n",
      " |-- person_gender: string (nullable = false)\n",
      "\n",
      "+--------------+------------+----+---------+---------+-------------+\n",
      "| admission_nbr|country_code| age|visa_code|visa_type|person_gender|\n",
      "+--------------+------------+----+---------+---------+-------------+\n",
      "|8.627441093E10|       101.0|61.0|      2.0|       B2|            F|\n",
      "|8.475081733E10|       101.0|32.0|      2.0|       B2|            M|\n",
      "|8.590369613E10|       101.0|63.0|      2.0|       B2|            M|\n",
      "|8.453557203E10|       101.0|42.0|      1.0|       E2|            M|\n",
      "|8.617903623E10|       101.0|20.0|      3.0|       F1|            F|\n",
      "|  3.37702985E8|       101.0|21.0|      3.0|       F1|            M|\n",
      "|8.452001713E10|       101.0|29.0|      3.0|       F1|            M|\n",
      "|8.561559603E10|       101.0|21.0|      3.0|       F1|            M|\n",
      "|8.634534993E10|       101.0|24.0|      3.0|       F1|            M|\n",
      "|8.485861733E10|       101.0|24.0|      3.0|       F1|            M|\n",
      "|8.473907113E10|       101.0|41.0|      2.0|       B2|            M|\n",
      "|8.542788393E10|       101.0|20.0|      3.0|       F1|            F|\n",
      "|  3.75553985E8|       101.0|69.0|      2.0|       B2|            M|\n",
      "|8.678389143E10|       101.0|60.0|      2.0|       B2|           NA|\n",
      "|8.417612603E10|       101.0|19.0|      3.0|       F1|            F|\n",
      "|8.120841773E10|       101.0|26.0|      2.0|       B2|            M|\n",
      "|8.410376163E10|       101.0|11.0|      1.0|       E2|            M|\n",
      "|8.506346023E10|       101.0|61.0|      2.0|       B2|            F|\n",
      "|8.625841873E10|       101.0|43.0|      1.0|       E2|            M|\n",
      "|8.455643453E10|       101.0|23.0|      3.0|       F1|            F|\n",
      "+--------------+------------+----+---------+---------+-------------+\n",
      "only showing top 20 rows\n",
      "\n"
     ]
    }
   ],
   "source": [
    "# Create table\n",
    "#i94_df_spark = i94_df_spark.withColumn(\"person_id\", monotonically_increasing_id())\n",
    "i94_df_spark_clean.createOrReplaceTempView(\"admissions_table_DF\")\n",
    "admissions_table = spark.sql(\"\"\"\n",
    "    SELECT  DISTINCT admnum   AS admission_nbr,\n",
    "                     i94res   AS country_code, \n",
    "                     i94bir   AS age, \n",
    "                     i94visa  AS visa_code, \n",
    "                     visatype AS visa_type, \n",
    "                     gender   AS person_gender\n",
    "    FROM admissions_table_DF\n",
    "    ORDER BY country_code\n",
    "\"\"\")\n",
    "admissions_table.printSchema()\n",
    "admissions_table.show(20)"
   ]
  },
  {
   "cell_type": "code",
   "execution_count": 59,
   "metadata": {},
   "outputs": [
    {
     "name": "stdout",
     "output_type": "stream",
     "text": [
      "OUTPUT: data/output_data/admissions_table.parquet_2019-08-15-06-26-27-251294\n",
      "Writing DONE.\n"
     ]
    }
   ],
   "source": [
    "# Write persons_table to parquet file:\n",
    "admissions_table_path = output_data + \"admissions_table.parquet\" + \"_\" + start_time\n",
    "print(f\"OUTPUT: {admissions_table_path}\")\n",
    "admissions_table.write.mode(\"overwrite\").parquet(admissions_table_path)\n",
    "print(\"Writing DONE.\")\n",
    "\n",
    "# Read parquet file back to Spark:\n",
    "admissions_table_df = spark.read.parquet(admissions_table_path)"
   ]
  },
  {
   "cell_type": "markdown",
   "metadata": {},
   "source": [
    "#### 4.1.2 Create countries table + write to parquet file"
   ]
  },
  {
   "cell_type": "code",
   "execution_count": 29,
   "metadata": {},
   "outputs": [
    {
     "name": "stdout",
     "output_type": "stream",
     "text": [
      "root\n",
      " |-- i94cit: string (nullable = true)\n",
      " |-- i94_country_name: string (nullable = true)\n",
      "\n"
     ]
    },
    {
     "data": {
      "text/plain": [
       "Row(i94cit='527', i94_country_name='TURKS AND CAICOS ISLANDS')"
      ]
     },
     "execution_count": 29,
     "metadata": {},
     "output_type": "execute_result"
    }
   ],
   "source": [
    "#country_codes_i94_df_spark.printSchema()\n",
    "#country_codes_i94_df_spark.head()"
   ]
  },
  {
   "cell_type": "code",
   "execution_count": 71,
   "metadata": {},
   "outputs": [],
   "source": [
    "#i94_df_spark_joined = i94_df_spark.join(country_codes_i94_df_spark, \\\n",
    "#                                        (i94_df_spark.i94res_str == country_codes_i94_df_spark.i94cit))"
   ]
  },
  {
   "cell_type": "code",
   "execution_count": 82,
   "metadata": {},
   "outputs": [],
   "source": [
    "#i94_df_spark_joined.printSchema()\n",
    "#i94_df_spark_joined.head()"
   ]
  },
  {
   "cell_type": "code",
   "execution_count": 73,
   "metadata": {},
   "outputs": [
    {
     "data": {
      "text/plain": [
       "2847924"
      ]
     },
     "execution_count": 73,
     "metadata": {},
     "output_type": "execute_result"
    }
   ],
   "source": [
    "#i94_df_spark_joined.count()"
   ]
  },
  {
   "cell_type": "code",
   "execution_count": 126,
   "metadata": {},
   "outputs": [
    {
     "name": "stdout",
     "output_type": "stream",
     "text": [
      "root\n",
      " |-- country_code: string (nullable = false)\n",
      " |-- country_name: string (nullable = false)\n",
      "\n",
      "+------------+---------------+\n",
      "|country_code|   country_name|\n",
      "+------------+---------------+\n",
      "|         236|    AFGHANISTAN|\n",
      "|         101|        ALBANIA|\n",
      "|         316|        ALGERIA|\n",
      "|         102|        ANDORRA|\n",
      "|         324|         ANGOLA|\n",
      "|         529|       ANGUILLA|\n",
      "|         518|ANTIGUA-BARBUDA|\n",
      "|         687|      ARGENTINA|\n",
      "|         151|        ARMENIA|\n",
      "|         532|          ARUBA|\n",
      "|         438|      AUSTRALIA|\n",
      "|         103|        AUSTRIA|\n",
      "|         152|     AZERBAIJAN|\n",
      "|         512|        BAHAMAS|\n",
      "|         298|        BAHRAIN|\n",
      "|         274|     BANGLADESH|\n",
      "|         513|       BARBADOS|\n",
      "|         153|        BELARUS|\n",
      "|         104|        BELGIUM|\n",
      "|         581|         BELIZE|\n",
      "+------------+---------------+\n",
      "only showing top 20 rows\n",
      "\n"
     ]
    },
    {
     "data": {
      "text/plain": [
       "289"
      ]
     },
     "execution_count": 126,
     "metadata": {},
     "output_type": "execute_result"
    }
   ],
   "source": [
    "# Create table\n",
    "country_codes_i94_df_spark.createOrReplaceTempView(\"countries_table_DF\")\n",
    "countries_table = spark.sql(\"\"\"\n",
    "    SELECT  DISTINCT i94_cit          AS country_code, \n",
    "                     i94_country_name AS country_name\n",
    "    FROM countries_table_DF           AS countries\n",
    "    ORDER BY country_name\n",
    "\"\"\")\n",
    "countries_table.printSchema()\n",
    "countries_table.show(20)\n",
    "countries_table.count()"
   ]
  },
  {
   "cell_type": "code",
   "execution_count": 29,
   "metadata": {},
   "outputs": [
    {
     "name": "stdout",
     "output_type": "stream",
     "text": [
      "OUTPUT: data/output_data/countries_table.parquet_2019-08-15-06-26-27-251294\n",
      "Writing DONE.\n"
     ]
    }
   ],
   "source": [
    "# Write countries_table to parquet file:\n",
    "countries_table_path = output_data + \"countries_table.parquet\" + \"_\" + start_time\n",
    "print(f\"OUTPUT: {countries_table_path}\")\n",
    "countries_table.write.mode(\"overwrite\").parquet(countries_table_path)\n",
    "print(\"Writing DONE.\")\n",
    "\n",
    "# Read parquet file back to Spark:\n",
    "countries_table_df = spark.read.parquet(countries_table_path)\n"
   ]
  },
  {
   "cell_type": "markdown",
   "metadata": {},
   "source": [
    "#### 4.1.3 Create airports table + write to parquet file"
   ]
  },
  {
   "cell_type": "code",
   "execution_count": 32,
   "metadata": {},
   "outputs": [
    {
     "name": "stdout",
     "output_type": "stream",
     "text": [
      "root\n",
      " |-- i94port: string (nullable = true)\n",
      " |-- i94_airport_name: string (nullable = true)\n",
      " |-- i94_airport_state: string (nullable = true)\n",
      "\n",
      "+-------+--------------------------+-----------------+\n",
      "|i94port|i94_airport_name          |i94_airport_state|\n",
      "+-------+--------------------------+-----------------+\n",
      "|ELM    |REGIONAL ARPT - HORSEHEAD |NY               |\n",
      "|ROC    |ROCHESTER                 |NY               |\n",
      "|ROU    |ROUSES POINT              |NY               |\n",
      "|SWF    |STEWART - ORANGE CNTY     |NY               |\n",
      "|SYR    |SYRACUSE                  |NY               |\n",
      "|THO    |THOUSAND ISLAND BRIDGE    |NY               |\n",
      "|TRO    |TROUT RIVER               |NY               |\n",
      "|WAT    |WATERTOWN                 |NY               |\n",
      "|HPN    |WESTCHESTER - WHITE PLAINS|NY               |\n",
      "|WRB    |WHIRLPOOL BRIDGE          |NY               |\n",
      "|YOU    |YOUNGSTOWN                |NY               |\n",
      "|AKR    |AKRON                     |OH               |\n",
      "|ATB    |ASHTABULA                 |OH               |\n",
      "|CIN    |CINCINNATI                |OH               |\n",
      "|CLE    |CLEVELAND                 |OH               |\n",
      "+-------+--------------------------+-----------------+\n",
      "only showing top 15 rows\n",
      "\n"
     ]
    }
   ],
   "source": [
    "#airport_codes_i94_df_spark.printSchema()\n",
    "#airport_codes_i94_df_spark.show(15, truncate=False)"
   ]
  },
  {
   "cell_type": "code",
   "execution_count": 127,
   "metadata": {},
   "outputs": [
    {
     "name": "stdout",
     "output_type": "stream",
     "text": [
      "root\n",
      " |-- airport_id: string (nullable = false)\n",
      " |-- airport_name: string (nullable = false)\n",
      " |-- airport_state: string (nullable = false)\n",
      "\n",
      "+----------+--------------------+-------------+\n",
      "|airport_id|        airport_name|airport_state|\n",
      "+----------+--------------------+-------------+\n",
      "|       ABE|            ABERDEEN|           WA|\n",
      "|       ADS|ADDISON AIRPORT- ...|           TX|\n",
      "|       AGA|               AGANA|           GU|\n",
      "|       AGU|           AGUADILLA|           PR|\n",
      "|       BOI|AIR TERM. (GOWEN ...|           ID|\n",
      "|       AKR|               AKRON|           OH|\n",
      "|       CAK|               AKRON|           OH|\n",
      "|       ALA|          ALAMAGORDO|     NM (BPS)|\n",
      "|       ALB|              ALBANY|           NY|\n",
      "|       CHO|ALBEMARLE CHARLOT...|           VA|\n",
      "|       ABQ|         ALBUQUERQUE|           NM|\n",
      "|       ABG|              ALBURG|           VT|\n",
      "|       ABS|      ALBURG SPRINGS|           VT|\n",
      "|       ALC|               ALCAN|           AK|\n",
      "|       AXB|      ALEXANDRIA BAY|           NY|\n",
      "|       AGM|              ALGOMA|           WI|\n",
      "|       AGN|             ALGONAC|           MI|\n",
      "|       ALP|              ALPENA|           MI|\n",
      "|       AMB|             AMBROSE|           ND|\n",
      "|       ADT|         AMISTAD DAM|           TX|\n",
      "+----------+--------------------+-------------+\n",
      "only showing top 20 rows\n",
      "\n"
     ]
    },
    {
     "data": {
      "text/plain": [
       "660"
      ]
     },
     "execution_count": 127,
     "metadata": {},
     "output_type": "execute_result"
    }
   ],
   "source": [
    "# Create table\n",
    "airport_codes_i94_df_spark.createOrReplaceTempView(\"airports_table_DF\")\n",
    "airports_table = spark.sql(\"\"\"\n",
    "    SELECT DISTINCT  i94_port          AS airport_id, \n",
    "                     i94_airport_name  AS airport_name,\n",
    "                     i94_airport_state AS airport_state\n",
    "    FROM airports_table_DF             AS airports\n",
    "    ORDER BY airport_name\n",
    "\"\"\")\n",
    "\n",
    "airports_table.printSchema()\n",
    "airports_table.show(20)\n",
    "airports_table.count()"
   ]
  },
  {
   "cell_type": "code",
   "execution_count": 31,
   "metadata": {},
   "outputs": [
    {
     "name": "stdout",
     "output_type": "stream",
     "text": [
      "OUTPUT: data/output_data/airports_table.parquet_2019-08-15-06-26-27-251294\n",
      "Writing DONE.\n"
     ]
    }
   ],
   "source": [
    "# Write airports_table to parquet file:\n",
    "airports_table_path = output_data + \"airports_table.parquet\" + \"_\" + start_time\n",
    "print(f\"OUTPUT: {airports_table_path}\")\n",
    "airports_table.write.mode(\"overwrite\").parquet(airports_table_path)\n",
    "print(\"Writing DONE.\")\n",
    "\n",
    "# Read parquet file back to Spark:\n",
    "airports_table_df = spark.read.parquet(airports_table_path)"
   ]
  },
  {
   "cell_type": "markdown",
   "metadata": {},
   "source": [
    "#### 4.1.4 Create time table + write to parquet file"
   ]
  },
  {
   "cell_type": "code",
   "execution_count": 131,
   "metadata": {},
   "outputs": [
    {
     "name": "stdout",
     "output_type": "stream",
     "text": [
      "New column creation DONE.\n"
     ]
    }
   ],
   "source": [
    "@udf(t.TimestampType())\n",
    "def get_timestamp (arrdate):\n",
    "    arrdate_int = int(arrdate)\n",
    "    return (datetime(1960,1,1) + timedelta(days=arrdate_int))\n",
    "    \n",
    "i94_df_spark = i94_df_spark_clean.withColumn(\"arrival_ts\", get_timestamp(i94_df_spark.arrdate))\n",
    "print(\"New column creation DONE.\")"
   ]
  },
  {
   "cell_type": "code",
   "execution_count": 180,
   "metadata": {},
   "outputs": [],
   "source": [
    "#i94_df_spark_clean.printSchema()"
   ]
  },
  {
   "cell_type": "code",
   "execution_count": 133,
   "metadata": {},
   "outputs": [
    {
     "name": "stdout",
     "output_type": "stream",
     "text": [
      "root\n",
      " |-- arrival_ts: timestamp (nullable = true)\n",
      " |-- hour: integer (nullable = true)\n",
      " |-- day: integer (nullable = true)\n",
      " |-- week: integer (nullable = true)\n",
      " |-- month: integer (nullable = true)\n",
      " |-- year: integer (nullable = true)\n",
      " |-- weekday: integer (nullable = true)\n",
      "\n"
     ]
    }
   ],
   "source": [
    "i94_df_spark_clean.createOrReplaceTempView(\"time_table_DF\")\n",
    "time_table = spark.sql(\"\"\"\n",
    "    SELECT DISTINCT  arrival_ts             AS arrival_ts, \n",
    "                     hour(arrival_ts)       AS hour, \n",
    "                     day(arrival_ts)        AS day, \n",
    "                     weekofyear(arrival_ts) AS week,\n",
    "                     month(arrival_ts)      AS month,\n",
    "                     year(arrival_ts)       AS year,\n",
    "                     dayofweek(arrival_ts)  AS weekday\n",
    "    FROM time_table_DF\n",
    "    ORDER BY arrival_ts\n",
    "\"\"\")\n",
    "time_table.printSchema()\n",
    "#time_table.show(5, truncate=False)"
   ]
  },
  {
   "cell_type": "code",
   "execution_count": 35,
   "metadata": {},
   "outputs": [
    {
     "name": "stdout",
     "output_type": "stream",
     "text": [
      "OUTPUT: data/output_data/time_table.parquet_2019-08-15-06-26-27-251294\n",
      "Writing DONE.\n"
     ]
    }
   ],
   "source": [
    "# Write time_table to parquet file:\n",
    "time_table_path = output_data + \"time_table.parquet\" + \"_\" + start_time\n",
    "print(f\"OUTPUT: {time_table_path}\")\n",
    "time_table.write.mode(\"overwrite\").parquet(time_table_path)\n",
    "print(\"Writing DONE.\")\n",
    "\n",
    "# Read parquet file back to Spark:\n",
    "time_table_df = spark.read.parquet(time_table_path)"
   ]
  },
  {
   "cell_type": "markdown",
   "metadata": {},
   "source": [
    "#### 4.1.5 Create immigrations table + write to parquet file"
   ]
  },
  {
   "cell_type": "code",
   "execution_count": 181,
   "metadata": {},
   "outputs": [],
   "source": [
    "#i94_df_spark_clean.printSchema()"
   ]
  },
  {
   "cell_type": "code",
   "execution_count": 182,
   "metadata": {},
   "outputs": [],
   "source": [
    "#countries_table_df.printSchema()"
   ]
  },
  {
   "cell_type": "code",
   "execution_count": null,
   "metadata": {},
   "outputs": [],
   "source": [
    "# Create \"depdate_ts\" column at this phase (before joining tables)\n",
    "# Create \"immigration_id\" column at this phase (before joining tables)"
   ]
  },
  {
   "cell_type": "code",
   "execution_count": 135,
   "metadata": {},
   "outputs": [],
   "source": [
    "i94_df_spark_joined = i94_df_spark_clean.join(country_codes_i94_df_spark, \\\n",
    "                                              (i94_df_spark_clean.i94cit == country_codes_i94_df_spark.i94_cit))\\\n",
    "                                        .join(airport_codes_i94_df_spark, \\\n",
    "                                              (i94_df_spark_clean.i94port == airport_codes_i94_df_spark.i94_port))"
   ]
  },
  {
   "cell_type": "code",
   "execution_count": 136,
   "metadata": {},
   "outputs": [
    {
     "name": "stdout",
     "output_type": "stream",
     "text": [
      "root\n",
      " |-- cicid: double (nullable = true)\n",
      " |-- i94yr: double (nullable = true)\n",
      " |-- i94mon: double (nullable = true)\n",
      " |-- i94cit: double (nullable = true)\n",
      " |-- i94res: double (nullable = true)\n",
      " |-- i94port: string (nullable = true)\n",
      " |-- arrdate: double (nullable = true)\n",
      " |-- i94mode: double (nullable = false)\n",
      " |-- i94addr: string (nullable = false)\n",
      " |-- depdate: double (nullable = false)\n",
      " |-- i94bir: double (nullable = true)\n",
      " |-- i94visa: double (nullable = false)\n",
      " |-- count: double (nullable = false)\n",
      " |-- dtadfile: string (nullable = false)\n",
      " |-- visapost: string (nullable = false)\n",
      " |-- occup: string (nullable = false)\n",
      " |-- entdepa: string (nullable = false)\n",
      " |-- entdepd: string (nullable = false)\n",
      " |-- entdepu: string (nullable = false)\n",
      " |-- matflag: string (nullable = false)\n",
      " |-- biryear: double (nullable = false)\n",
      " |-- dtaddto: string (nullable = false)\n",
      " |-- gender: string (nullable = false)\n",
      " |-- insnum: string (nullable = false)\n",
      " |-- airline: string (nullable = false)\n",
      " |-- admnum: double (nullable = false)\n",
      " |-- fltno: string (nullable = false)\n",
      " |-- visatype: string (nullable = false)\n",
      " |-- person_id: long (nullable = false)\n",
      " |-- i94res_str: string (nullable = true)\n",
      " |-- arrival_ts: timestamp (nullable = true)\n",
      " |-- i94_cit: string (nullable = false)\n",
      " |-- i94_country_name: string (nullable = false)\n",
      " |-- i94_port: string (nullable = false)\n",
      " |-- i94_airport_name: string (nullable = false)\n",
      " |-- i94_airport_state: string (nullable = false)\n",
      "\n"
     ]
    }
   ],
   "source": [
    "i94_df_spark_joined.printSchema()\n",
    "#i94_df_spark_joined.show(5, truncate=False)"
   ]
  },
  {
   "cell_type": "code",
   "execution_count": 137,
   "metadata": {},
   "outputs": [
    {
     "name": "stdout",
     "output_type": "stream",
     "text": [
      "New column creation DONE.\n"
     ]
    }
   ],
   "source": [
    "i94_df_spark_joined = i94_df_spark_joined.withColumn(\"immigration_id\", monotonically_increasing_id())\n",
    "print(\"New column creation DONE.\")"
   ]
  },
  {
   "cell_type": "code",
   "execution_count": 183,
   "metadata": {},
   "outputs": [],
   "source": [
    "#i94_df_spark_joined.printSchema()\n",
    "#i94_df_spark_joined.show(5, truncate=False)"
   ]
  },
  {
   "cell_type": "code",
   "execution_count": 140,
   "metadata": {},
   "outputs": [
    {
     "name": "stdout",
     "output_type": "stream",
     "text": [
      "root\n",
      " |-- cicid: double (nullable = true)\n",
      " |-- i94yr: double (nullable = true)\n",
      " |-- i94mon: double (nullable = true)\n",
      " |-- i94cit: double (nullable = true)\n",
      " |-- i94res: double (nullable = true)\n",
      " |-- i94port: string (nullable = true)\n",
      " |-- arrdate: double (nullable = true)\n",
      " |-- i94mode: double (nullable = false)\n",
      " |-- airline: string (nullable = false)\n",
      " |-- fltno: string (nullable = false)\n",
      " |-- depdate: double (nullable = false)\n",
      " |-- i94bir: double (nullable = true)\n",
      " |-- i94visa: double (nullable = false)\n",
      " |-- gender: string (nullable = false)\n",
      " |-- visatype: string (nullable = false)\n",
      " |-- admnum: double (nullable = false)\n",
      "\n",
      "+-----+-----+------+------+------+-------+-------+-------+-------+-----+-------+------+-------+------+--------+------+\n",
      "|cicid|i94yr|i94mon|i94cit|i94res|i94port|arrdate|i94mode|airline|fltno|depdate|i94bir|i94visa|gender|visatype|admnum|\n",
      "+-----+-----+------+------+------+-------+-------+-------+-------+-----+-------+------+-------+------+--------+------+\n",
      "+-----+-----+------+------+------+-------+-------+-------+-------+-----+-------+------+-------+------+--------+------+\n",
      "\n"
     ]
    }
   ],
   "source": [
    "i94_df_spark_joined.createOrReplaceTempView(\"immigrants_table_DF\")\n",
    "immigrants_table_check = spark.sql(\"\"\"\n",
    "    SELECT  cicid, i94yr, i94mon, i94cit, i94res, i94port, arrdate, \\\n",
    "            i94mode, airline, fltno, depdate, i94bir, i94visa, gender,  \\\n",
    "            visatype, admnum\n",
    "    FROM immigrants_table_DF\n",
    "    WHERE   cicid == null OR arrdate == null OR i94port == null \\\n",
    "            OR fltno == null OR i94mode == null OR admnum == null \\\n",
    "            OR gender == null OR admnum == null OR depdate == null\n",
    "    ORDER BY arrdate\n",
    "\"\"\")\n",
    "immigrants_table_check.printSchema()\n",
    "immigrants_table_check.show(20)"
   ]
  },
  {
   "cell_type": "code",
   "execution_count": 142,
   "metadata": {},
   "outputs": [
    {
     "name": "stdout",
     "output_type": "stream",
     "text": [
      "New column creation DONE.\n"
     ]
    }
   ],
   "source": [
    "@udf(t.TimestampType())\n",
    "def get_timestamp2 (depdate):\n",
    "    if depdate == \"null\":\n",
    "        depdate_int = 0\n",
    "    else:\n",
    "        depdate_int = int(depdate)\n",
    "    return (datetime(1960,1,1) + timedelta(days=depdate_int))\n",
    "\n",
    "i94_df_spark_joined = i94_df_spark_joined.withColumn(\"departure_date\", get_timestamp2(i94_df_spark_joined.depdate))\n",
    "print(\"New column creation DONE.\")"
   ]
  },
  {
   "cell_type": "code",
   "execution_count": 184,
   "metadata": {},
   "outputs": [],
   "source": [
    "#i94_df_spark_joined.printSchema()"
   ]
  },
  {
   "cell_type": "code",
   "execution_count": 205,
   "metadata": {},
   "outputs": [
    {
     "name": "stdout",
     "output_type": "stream",
     "text": [
      "root\n",
      " |-- immigration_id: long (nullable = false)\n",
      " |-- arrival_ts: timestamp (nullable = true)\n",
      " |-- airport_id: string (nullable = false)\n",
      " |-- country_code: string (nullable = false)\n",
      " |-- admission_nbr: double (nullable = false)\n",
      " |-- arrival_mode: double (nullable = false)\n",
      " |-- departure_date: timestamp (nullable = true)\n",
      " |-- airline: string (nullable = false)\n",
      " |-- flight_nbr: string (nullable = false)\n",
      "\n"
     ]
    }
   ],
   "source": [
    "\n",
    "i94_df_spark_joined.createOrReplaceTempView(\"immigrations_table_DF\")\n",
    "immigrations_table = spark.sql(\"\"\"\n",
    "    SELECT DISTINCT  immigration_id AS immigration_id, \n",
    "                     arrival_ts     AS arrival_ts,\n",
    "                     i94_port       AS airport_id,\n",
    "                     i94_cit        AS country_code,\n",
    "                     admnum         AS admission_nbr,\n",
    "                     i94mode        AS arrival_mode,\n",
    "                     departure_date AS departure_date,\n",
    "                     airline        AS airline,\n",
    "                     fltno          AS flight_nbr\n",
    "                    \n",
    "    FROM immigrations_table_DF immigrants\n",
    "    ORDER BY arrival_ts\n",
    "\"\"\")\n",
    "immigrations_table.printSchema()"
   ]
  },
  {
   "cell_type": "code",
   "execution_count": 207,
   "metadata": {},
   "outputs": [
    {
     "name": "stdout",
     "output_type": "stream",
     "text": [
      "+--------------+-------------------+----------+------------+---------------+------------+-------------------+-------+----------+\n",
      "|immigration_id|arrival_ts         |airport_id|country_code|admission_nbr  |arrival_mode|departure_date     |airline|flight_nbr|\n",
      "+--------------+-------------------+----------+------------+---------------+------------+-------------------+-------+----------+\n",
      "|154618828633  |2016-01-01 00:00:00|DET       |245         |8.412547383E10 |1.0         |1960-01-01 00:00:00|DL     |00158     |\n",
      "|214748373269  |2016-01-01 00:00:00|AGA       |209         |4.0342039033E10|1.0         |2016-01-05 00:00:00|DL     |00294     |\n",
      "|154618838773  |2016-01-01 00:00:00|DET       |245         |8.216838953E10 |3.0         |2016-01-06 00:00:00|NA     |01862     |\n",
      "|34359738956   |2016-01-01 00:00:00|SNA       |582         |8.418162053E10 |1.0         |2016-01-08 00:00:00|4O     |02952     |\n",
      "|154618838939  |2016-01-01 00:00:00|DET       |245         |7.365205013E10 |3.0         |2016-03-13 00:00:00|NA     |00806     |\n",
      "+--------------+-------------------+----------+------------+---------------+------------+-------------------+-------+----------+\n",
      "only showing top 5 rows\n",
      "\n"
     ]
    }
   ],
   "source": [
    "immigrations_table.show(5, truncate=False)"
   ]
  },
  {
   "cell_type": "code",
   "execution_count": 210,
   "metadata": {},
   "outputs": [
    {
     "name": "stdout",
     "output_type": "stream",
     "text": [
      "OUTPUT: data/output_data/immigrations_table.parquet_2019-08-15-12-22-26-417652\n",
      "Writing DONE.\n"
     ]
    }
   ],
   "source": [
    "# Write immigrants_table to parquet file:\n",
    "immigrations_table_path = output_data + \"immigrations_table.parquet\" + \"_\" + start_time\n",
    "print(f\"OUTPUT: {immigrations_table_path}\")\n",
    "immigrations_table.write.mode(\"overwrite\").parquet(immigrations_table_path)\n",
    "print(\"Writing DONE.\")\n",
    "\n",
    "# Read parquet file back to Spark:\n",
    "immigrations_table_df = spark.read.parquet(immigrations_table_path)"
   ]
  },
  {
   "cell_type": "markdown",
   "metadata": {},
   "source": [
    "#### 4.2 Data Quality Checks\n",
    "_Explain the data quality checks you'll perform to ensure the pipeline ran as expected. These could include:_\n",
    " * _Integrity constraints on the relational database (e.g., unique key, data type, etc.)_\n",
    " * _Unit tests for the scripts to ensure they are doing the right thing_\n",
    " * _Source/Count checks to ensure completeness_\n",
    " \n",
    "_Run Quality Checks_\n",
    "\n",
    "Data quality checks:\n",
    " * Check that all primary and secondary keys in star schema dimension and fact tables have values.\n",
    " * Check that all tables have more than 0 rows."
   ]
  },
  {
   "cell_type": "markdown",
   "metadata": {},
   "source": [
    "#### 4.2.1 Quality checks for admissions table"
   ]
  },
  {
   "cell_type": "code",
   "execution_count": 198,
   "metadata": {},
   "outputs": [
    {
     "name": "stdout",
     "output_type": "stream",
     "text": [
      "+--------+\n",
      "|count(1)|\n",
      "+--------+\n",
      "|       0|\n",
      "+--------+\n",
      "\n"
     ]
    }
   ],
   "source": [
    "# Check that key fields have valid values (no nulls or empty)\n",
    "admissions_table_df.createOrReplaceTempView(\"admissions_table_DF\")\n",
    "admissions_table_check1 = spark.sql(\"\"\"\n",
    "    SELECT  COUNT(*)\n",
    "    FROM admissions_table_DF\n",
    "    WHERE   admission_nbr IS NULL OR admission_nbr == \"\" OR \n",
    "            country_code IS NULL OR country_code == \"\" \n",
    "\"\"\")\n",
    "admissions_table_check1.show(20)"
   ]
  },
  {
   "cell_type": "code",
   "execution_count": 195,
   "metadata": {},
   "outputs": [
    {
     "name": "stdout",
     "output_type": "stream",
     "text": [
      "+--------+\n",
      "|count(1)|\n",
      "+--------+\n",
      "| 2833480|\n",
      "+--------+\n",
      "\n"
     ]
    }
   ],
   "source": [
    "# Check that table has > 0 rows\n",
    "admissions_table_df.createOrReplaceTempView(\"admissions_table_DF\")\n",
    "admissions_table_check2 = spark.sql(\"\"\"\n",
    "    SELECT  COUNT(*)\n",
    "    FROM admissions_table_DF\n",
    "\"\"\").show()"
   ]
  },
  {
   "cell_type": "markdown",
   "metadata": {},
   "source": [
    "#### 4.2.2 Quality checks for countries table"
   ]
  },
  {
   "cell_type": "code",
   "execution_count": 197,
   "metadata": {},
   "outputs": [
    {
     "name": "stdout",
     "output_type": "stream",
     "text": [
      "+--------+\n",
      "|count(1)|\n",
      "+--------+\n",
      "|       0|\n",
      "+--------+\n",
      "\n"
     ]
    }
   ],
   "source": [
    "# Check that key fields have valid values (no nulls or empty)\n",
    "countries_table_df.createOrReplaceTempView(\"countries_table_DF\")\n",
    "countries_table_check1 = spark.sql(\"\"\"\n",
    "    SELECT  COUNT(*)\n",
    "    FROM countries_table_DF\n",
    "    WHERE   country_code IS NULL OR country_code == \"\"\n",
    "\"\"\")\n",
    "countries_table_check1.show(20)"
   ]
  },
  {
   "cell_type": "code",
   "execution_count": 199,
   "metadata": {},
   "outputs": [
    {
     "name": "stdout",
     "output_type": "stream",
     "text": [
      "+--------+\n",
      "|count(1)|\n",
      "+--------+\n",
      "|     289|\n",
      "+--------+\n",
      "\n"
     ]
    }
   ],
   "source": [
    "# Check that table has > 0 rows\n",
    "countries_table_df.createOrReplaceTempView(\"countries_table_DF\")\n",
    "countries_table_check2 = spark.sql(\"\"\"\n",
    "    SELECT  COUNT(*)\n",
    "    FROM countries_table_DF\n",
    "\"\"\").show()"
   ]
  },
  {
   "cell_type": "markdown",
   "metadata": {},
   "source": [
    "#### 4.2.3 Quality checks for airports table"
   ]
  },
  {
   "cell_type": "code",
   "execution_count": 200,
   "metadata": {},
   "outputs": [
    {
     "name": "stdout",
     "output_type": "stream",
     "text": [
      "+--------+\n",
      "|count(1)|\n",
      "+--------+\n",
      "|       0|\n",
      "+--------+\n",
      "\n"
     ]
    }
   ],
   "source": [
    "# Check that key fields have valid values (no nulls or empty)\n",
    "airports_table_df.createOrReplaceTempView(\"airports_table_DF\")\n",
    "airports_table_check1 = spark.sql(\"\"\"\n",
    "    SELECT  COUNT(*)\n",
    "    FROM airports_table_DF\n",
    "    WHERE   airport_id IS NULL OR airport_id == \"\" OR\n",
    "            airport_name IS NULL OR airport_name == \"\"\n",
    "\"\"\")\n",
    "airports_table_check1.show(20)"
   ]
  },
  {
   "cell_type": "code",
   "execution_count": 201,
   "metadata": {},
   "outputs": [
    {
     "name": "stdout",
     "output_type": "stream",
     "text": [
      "+--------+\n",
      "|count(1)|\n",
      "+--------+\n",
      "|     660|\n",
      "+--------+\n",
      "\n"
     ]
    }
   ],
   "source": [
    "# Check that table has > 0 rows\n",
    "airports_table_df.createOrReplaceTempView(\"airports_table_DF\")\n",
    "airports_table_check2 = spark.sql(\"\"\"\n",
    "    SELECT  COUNT(*)\n",
    "    FROM airports_table_DF\n",
    "\"\"\").show()"
   ]
  },
  {
   "cell_type": "markdown",
   "metadata": {},
   "source": [
    "#### 4.2.4 Quality checks for time table"
   ]
  },
  {
   "cell_type": "code",
   "execution_count": 202,
   "metadata": {},
   "outputs": [
    {
     "name": "stdout",
     "output_type": "stream",
     "text": [
      "+--------+\n",
      "|count(1)|\n",
      "+--------+\n",
      "|       0|\n",
      "+--------+\n",
      "\n"
     ]
    }
   ],
   "source": [
    "# Check that key fields have valid values (no nulls or empty)\n",
    "time_table_df.createOrReplaceTempView(\"time_table_DF\")\n",
    "time_table_check1 = spark.sql(\"\"\"\n",
    "    SELECT  COUNT(*)\n",
    "    FROM time_table_DF\n",
    "    WHERE   arrival_ts IS NULL OR arrival_ts == \"\"\n",
    "\"\"\")\n",
    "time_table_check1.show(20)"
   ]
  },
  {
   "cell_type": "code",
   "execution_count": 203,
   "metadata": {},
   "outputs": [
    {
     "name": "stdout",
     "output_type": "stream",
     "text": [
      "+--------+\n",
      "|count(1)|\n",
      "+--------+\n",
      "|      31|\n",
      "+--------+\n",
      "\n"
     ]
    }
   ],
   "source": [
    "# Check that table has > 0 rows\n",
    "time_table_df.createOrReplaceTempView(\"time_table_DF\")\n",
    "time_table_check2 = spark.sql(\"\"\"\n",
    "    SELECT  COUNT(*)\n",
    "    FROM time_table_DF\n",
    "\"\"\").show()"
   ]
  },
  {
   "cell_type": "markdown",
   "metadata": {},
   "source": [
    "#### 4.2.1 Quality checks for immigrations table"
   ]
  },
  {
   "cell_type": "code",
   "execution_count": 212,
   "metadata": {},
   "outputs": [
    {
     "name": "stdout",
     "output_type": "stream",
     "text": [
      "+--------+\n",
      "|count(1)|\n",
      "+--------+\n",
      "|       0|\n",
      "+--------+\n",
      "\n"
     ]
    }
   ],
   "source": [
    "# Check that key fields have valid values (no nulls or empty)\n",
    "immigrations_table_df.createOrReplaceTempView(\"immigrations_table_DF\")\n",
    "immigrations_table_check1 = spark.sql(\"\"\"\n",
    "    SELECT  COUNT(*)\n",
    "    FROM immigrations_table_DF\n",
    "    WHERE   immigration_id IS NULL OR immigration_id == \"\" OR\n",
    "            arrival_ts IS NULL OR arrival_ts == \"\" OR\n",
    "            airport_id IS NULL OR airport_id == \"\" OR\n",
    "            country_code IS NULL OR country_code == \"\" OR \n",
    "            admission_nbr IS NULL OR admission_nbr == \"\"\n",
    "\"\"\")\n",
    "immigrations_table_check1.show(20)"
   ]
  },
  {
   "cell_type": "code",
   "execution_count": 213,
   "metadata": {},
   "outputs": [
    {
     "name": "stdout",
     "output_type": "stream",
     "text": [
      "+--------+\n",
      "|count(1)|\n",
      "+--------+\n",
      "| 2450639|\n",
      "+--------+\n",
      "\n"
     ]
    }
   ],
   "source": [
    "# Check that table has > 0 rows\n",
    "immigrations_table_df.createOrReplaceTempView(\"immigrations_table_DF\")\n",
    "immigrations_table_check2 = spark.sql(\"\"\"\n",
    "    SELECT  COUNT(*)\n",
    "    FROM immigrations_table_DF\n",
    "\"\"\").show()"
   ]
  },
  {
   "cell_type": "markdown",
   "metadata": {},
   "source": [
    "#### 4.3 Data dictionary \n",
    "_Create a data dictionary for your data model. For each field, provide a brief description of what the data is and where it came from. You can include the data dictionary in the notebook or in a separate file._\n",
    "\n",
    "Data Dictionary for the project is described in **data_dictionary.json** file stored in the project root directory."
   ]
  },
  {
   "cell_type": "markdown",
   "metadata": {},
   "source": [
    "#### Step 5: Complete Project Write Up\n",
    "* Clearly state the rationale for the choice of tools and technologies for the project.\n",
    "* Propose how often the data should be updated and why.\n",
    "* Write a description of how you would approach the problem differently under the following scenarios:\n",
    " * The data was increased by 100x.\n",
    " * The data populates a dashboard that must be updated on a daily basis by 7am every day.\n",
    " * The database needed to be accessed by 100+ people."
   ]
  },
  {
   "cell_type": "code",
   "execution_count": null,
   "metadata": {},
   "outputs": [],
   "source": []
  },
  {
   "cell_type": "code",
   "execution_count": null,
   "metadata": {},
   "outputs": [],
   "source": []
  },
  {
   "cell_type": "code",
   "execution_count": null,
   "metadata": {},
   "outputs": [],
   "source": []
  },
  {
   "cell_type": "code",
   "execution_count": null,
   "metadata": {},
   "outputs": [],
   "source": []
  },
  {
   "cell_type": "code",
   "execution_count": null,
   "metadata": {},
   "outputs": [],
   "source": []
  },
  {
   "cell_type": "code",
   "execution_count": null,
   "metadata": {},
   "outputs": [],
   "source": []
  }
 ],
 "metadata": {
  "kernelspec": {
   "display_name": "Python 3",
   "language": "python",
   "name": "python3"
  },
  "language_info": {
   "codemirror_mode": {
    "name": "ipython",
    "version": 3
   },
   "file_extension": ".py",
   "mimetype": "text/x-python",
   "name": "python",
   "nbconvert_exporter": "python",
   "pygments_lexer": "ipython3",
   "version": "3.6.8"
  }
 },
 "nbformat": 4,
 "nbformat_minor": 2
}
